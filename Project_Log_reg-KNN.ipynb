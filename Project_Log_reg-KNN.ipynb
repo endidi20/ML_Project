{
 "cells": [
  {
   "cell_type": "code",
   "execution_count": 1,
   "id": "a021b530",
   "metadata": {},
   "outputs": [],
   "source": [
    "import numpy as np\n",
    "import pandas as pd\n",
    "\n",
    "from sklearn.model_selection import train_test_split\n",
    "from sklearn.preprocessing import StandardScaler # or from sklearn import preprocessing\n",
    "from sklearn.linear_model import LogisticRegression\n",
    "from sklearn.neighbors import KNeighborsClassifier\n",
    "from sklearn.ensemble import RandomForestClassifier\n",
    "from sklearn.svm import SVC\n",
    "from sklearn.metrics import confusion_matrix, classification_report, accuracy_score\n",
    "from sklearn.model_selection import cross_val_score\n",
    "# from sklearn.preprocessing import SimpleImputer # To check for missing values\n",
    "from sklearn.impute import SimpleImputer\n",
    "from sklearn.model_selection import RepeatedStratifiedKFold\n",
    "from sklearn.model_selection import GridSearchCV\n",
    "from sklearn.impute import SimpleImputer\n",
    "\n",
    "%matplotlib inline \n",
    "import matplotlib.pyplot as plt "
   ]
  },
  {
   "cell_type": "code",
   "execution_count": 2,
   "id": "a546604e",
   "metadata": {},
   "outputs": [
    {
     "data": {
      "text/plain": [
       "(569, 33)"
      ]
     },
     "execution_count": 2,
     "metadata": {},
     "output_type": "execute_result"
    }
   ],
   "source": [
    "data = pd.read_csv('Tumor_data.csv')\n",
    "data.shape"
   ]
  },
  {
   "cell_type": "code",
   "execution_count": 3,
   "id": "cbc6cb94",
   "metadata": {},
   "outputs": [
    {
     "data": {
      "text/html": [
       "<div>\n",
       "<style scoped>\n",
       "    .dataframe tbody tr th:only-of-type {\n",
       "        vertical-align: middle;\n",
       "    }\n",
       "\n",
       "    .dataframe tbody tr th {\n",
       "        vertical-align: top;\n",
       "    }\n",
       "\n",
       "    .dataframe thead th {\n",
       "        text-align: right;\n",
       "    }\n",
       "</style>\n",
       "<table border=\"1\" class=\"dataframe\">\n",
       "  <thead>\n",
       "    <tr style=\"text-align: right;\">\n",
       "      <th></th>\n",
       "      <th>id</th>\n",
       "      <th>diagnosis</th>\n",
       "      <th>radius_mean</th>\n",
       "      <th>texture_mean</th>\n",
       "      <th>perimeter_mean</th>\n",
       "      <th>area_mean</th>\n",
       "      <th>smoothness_mean</th>\n",
       "      <th>compactness_mean</th>\n",
       "      <th>concavity_mean</th>\n",
       "      <th>concave points_mean</th>\n",
       "      <th>...</th>\n",
       "      <th>texture_worst</th>\n",
       "      <th>perimeter_worst</th>\n",
       "      <th>area_worst</th>\n",
       "      <th>smoothness_worst</th>\n",
       "      <th>compactness_worst</th>\n",
       "      <th>concavity_worst</th>\n",
       "      <th>concave points_worst</th>\n",
       "      <th>symmetry_worst</th>\n",
       "      <th>fractal_dimension_worst</th>\n",
       "      <th>Unnamed: 32</th>\n",
       "    </tr>\n",
       "  </thead>\n",
       "  <tbody>\n",
       "  </tbody>\n",
       "</table>\n",
       "<p>0 rows × 33 columns</p>\n",
       "</div>"
      ],
      "text/plain": [
       "Empty DataFrame\n",
       "Columns: [id, diagnosis, radius_mean, texture_mean, perimeter_mean, area_mean, smoothness_mean, compactness_mean, concavity_mean, concave points_mean, symmetry_mean, fractal_dimension_mean, radius_se, texture_se, perimeter_se, area_se, smoothness_se, compactness_se, concavity_se, concave points_se, symmetry_se, fractal_dimension_se, radius_worst, texture_worst, perimeter_worst, area_worst, smoothness_worst, compactness_worst, concavity_worst, concave points_worst, symmetry_worst, fractal_dimension_worst, Unnamed: 32]\n",
       "Index: []\n",
       "\n",
       "[0 rows x 33 columns]"
      ]
     },
     "execution_count": 3,
     "metadata": {},
     "output_type": "execute_result"
    }
   ],
   "source": [
    "# Check for duplicate rows\n",
    "dup_rows = data[data.duplicated(keep = 'last')]\n",
    "\n",
    "dup_rows"
   ]
  },
  {
   "cell_type": "code",
   "execution_count": 4,
   "id": "15d8d7f0",
   "metadata": {},
   "outputs": [
    {
     "data": {
      "text/plain": [
       "array(['M', 'B'], dtype=object)"
      ]
     },
     "execution_count": 4,
     "metadata": {},
     "output_type": "execute_result"
    }
   ],
   "source": [
    "data['diagnosis'].unique()"
   ]
  },
  {
   "cell_type": "code",
   "execution_count": 5,
   "id": "0824ebcd",
   "metadata": {},
   "outputs": [
    {
     "data": {
      "text/plain": [
       "B    357\n",
       "M    212\n",
       "Name: diagnosis, dtype: int64"
      ]
     },
     "execution_count": 5,
     "metadata": {},
     "output_type": "execute_result"
    }
   ],
   "source": [
    "data['diagnosis'].value_counts()"
   ]
  },
  {
   "cell_type": "code",
   "execution_count": 6,
   "id": "56d02ed3",
   "metadata": {},
   "outputs": [
    {
     "data": {
      "text/plain": [
       "id                           0\n",
       "diagnosis                    0\n",
       "radius_mean                  0\n",
       "texture_mean                 0\n",
       "perimeter_mean               0\n",
       "area_mean                    0\n",
       "smoothness_mean              0\n",
       "compactness_mean             0\n",
       "concavity_mean               0\n",
       "concave points_mean          0\n",
       "symmetry_mean                0\n",
       "fractal_dimension_mean       0\n",
       "radius_se                    0\n",
       "texture_se                   0\n",
       "perimeter_se                 0\n",
       "area_se                      0\n",
       "smoothness_se                0\n",
       "compactness_se               0\n",
       "concavity_se                 0\n",
       "concave points_se            0\n",
       "symmetry_se                  0\n",
       "fractal_dimension_se         0\n",
       "radius_worst                 0\n",
       "texture_worst                0\n",
       "perimeter_worst              0\n",
       "area_worst                   0\n",
       "smoothness_worst             0\n",
       "compactness_worst            0\n",
       "concavity_worst              0\n",
       "concave points_worst         0\n",
       "symmetry_worst               0\n",
       "fractal_dimension_worst      0\n",
       "Unnamed: 32                569\n",
       "dtype: int64"
      ]
     },
     "execution_count": 6,
     "metadata": {},
     "output_type": "execute_result"
    }
   ],
   "source": [
    "#checking for null values\n",
    "data.isnull().sum()"
   ]
  },
  {
   "cell_type": "markdown",
   "id": "823cfb15",
   "metadata": {},
   "source": [
    "# Unnamed: 32 has all null values, and wil be dropped since it is missing a huge percentage of its values\n",
    "\n",
    "# 'id' column is also irrelevant and will be dropped"
   ]
  },
  {
   "cell_type": "code",
   "execution_count": 7,
   "id": "c99d8196",
   "metadata": {},
   "outputs": [],
   "source": [
    "data.drop(columns = ['id' ,'Unnamed: 32'], inplace = True)"
   ]
  },
  {
   "cell_type": "code",
   "execution_count": 8,
   "id": "108c2eaa",
   "metadata": {},
   "outputs": [],
   "source": [
    "# Map the diagnosis to binary values\n",
    "data['diagnosis'] = data['diagnosis'].map({'M':1, 'B':0})"
   ]
  },
  {
   "cell_type": "code",
   "execution_count": 9,
   "id": "226e6e9b",
   "metadata": {},
   "outputs": [
    {
     "data": {
      "text/plain": [
       "0    357\n",
       "1    212\n",
       "Name: diagnosis, dtype: int64"
      ]
     },
     "execution_count": 9,
     "metadata": {},
     "output_type": "execute_result"
    }
   ],
   "source": [
    "data['diagnosis'].value_counts()"
   ]
  },
  {
   "cell_type": "code",
   "execution_count": 10,
   "id": "bcea7167",
   "metadata": {},
   "outputs": [],
   "source": [
    "# Account for class imbalance using up-sample minority class i.e randomly duplicating observations from the minority \n",
    "# class to reinforce its signal\n",
    "# 1. Resample with replacement\n",
    "\n",
    "from sklearn.utils import resample\n"
   ]
  },
  {
   "cell_type": "markdown",
   "id": "038cf6d8",
   "metadata": {},
   "source": [
    "Next, we’ll create a new DataFrame with an up-sampled minority class, using the following steps:\n",
    "\n",
    "First, we’ll separate observations from each class into different DataFrames.\n",
    "Next, we’ll resample the minority class with replacement, setting the number of samples to match that of the majority class.\n",
    "Finally, we’ll combine the up-sampled minority class DataFrame with the original majority class DataFrame."
   ]
  },
  {
   "cell_type": "code",
   "execution_count": 11,
   "id": "498ffac4",
   "metadata": {},
   "outputs": [
    {
     "data": {
      "text/plain": [
       "0    357\n",
       "1    357\n",
       "Name: diagnosis, dtype: int64"
      ]
     },
     "execution_count": 11,
     "metadata": {},
     "output_type": "execute_result"
    }
   ],
   "source": [
    "# Separate majority and minority classes\n",
    "data_majority = data[data.diagnosis==0]\n",
    "data_minority = data[data.diagnosis==1]\n",
    " \n",
    "# Upsample minority class\n",
    "data_minority_upsampled = resample(data_minority, \n",
    "                                 replace=True,     # sample with replacement\n",
    "                                 n_samples=357,    # to match majority class\n",
    "                                 random_state=123) # reproducible results\n",
    " \n",
    "# Combine majority class with upsampled minority class\n",
    "data_upsampled = pd.concat([data_majority, data_minority_upsampled])\n",
    " \n",
    "# Display new class counts\n",
    "data_upsampled.diagnosis.value_counts()\n",
    "# 1    576\n",
    "# 0    576\n",
    "# Name: balance, dtype: int64"
   ]
  },
  {
   "cell_type": "code",
   "execution_count": 12,
   "id": "aaa7cb26",
   "metadata": {},
   "outputs": [
    {
     "data": {
      "text/html": [
       "<div>\n",
       "<style scoped>\n",
       "    .dataframe tbody tr th:only-of-type {\n",
       "        vertical-align: middle;\n",
       "    }\n",
       "\n",
       "    .dataframe tbody tr th {\n",
       "        vertical-align: top;\n",
       "    }\n",
       "\n",
       "    .dataframe thead th {\n",
       "        text-align: right;\n",
       "    }\n",
       "</style>\n",
       "<table border=\"1\" class=\"dataframe\">\n",
       "  <thead>\n",
       "    <tr style=\"text-align: right;\">\n",
       "      <th></th>\n",
       "      <th>diagnosis</th>\n",
       "      <th>radius_mean</th>\n",
       "      <th>texture_mean</th>\n",
       "      <th>perimeter_mean</th>\n",
       "      <th>area_mean</th>\n",
       "      <th>smoothness_mean</th>\n",
       "      <th>compactness_mean</th>\n",
       "      <th>concavity_mean</th>\n",
       "      <th>concave points_mean</th>\n",
       "      <th>symmetry_mean</th>\n",
       "      <th>...</th>\n",
       "      <th>radius_worst</th>\n",
       "      <th>texture_worst</th>\n",
       "      <th>perimeter_worst</th>\n",
       "      <th>area_worst</th>\n",
       "      <th>smoothness_worst</th>\n",
       "      <th>compactness_worst</th>\n",
       "      <th>concavity_worst</th>\n",
       "      <th>concave points_worst</th>\n",
       "      <th>symmetry_worst</th>\n",
       "      <th>fractal_dimension_worst</th>\n",
       "    </tr>\n",
       "  </thead>\n",
       "  <tbody>\n",
       "    <tr>\n",
       "      <th>19</th>\n",
       "      <td>0</td>\n",
       "      <td>13.540</td>\n",
       "      <td>14.36</td>\n",
       "      <td>87.46</td>\n",
       "      <td>566.3</td>\n",
       "      <td>0.09779</td>\n",
       "      <td>0.08129</td>\n",
       "      <td>0.06664</td>\n",
       "      <td>0.047810</td>\n",
       "      <td>0.1885</td>\n",
       "      <td>...</td>\n",
       "      <td>15.110</td>\n",
       "      <td>19.26</td>\n",
       "      <td>99.70</td>\n",
       "      <td>711.2</td>\n",
       "      <td>0.14400</td>\n",
       "      <td>0.17730</td>\n",
       "      <td>0.23900</td>\n",
       "      <td>0.12880</td>\n",
       "      <td>0.2977</td>\n",
       "      <td>0.07259</td>\n",
       "    </tr>\n",
       "    <tr>\n",
       "      <th>20</th>\n",
       "      <td>0</td>\n",
       "      <td>13.080</td>\n",
       "      <td>15.71</td>\n",
       "      <td>85.63</td>\n",
       "      <td>520.0</td>\n",
       "      <td>0.10750</td>\n",
       "      <td>0.12700</td>\n",
       "      <td>0.04568</td>\n",
       "      <td>0.031100</td>\n",
       "      <td>0.1967</td>\n",
       "      <td>...</td>\n",
       "      <td>14.500</td>\n",
       "      <td>20.49</td>\n",
       "      <td>96.09</td>\n",
       "      <td>630.5</td>\n",
       "      <td>0.13120</td>\n",
       "      <td>0.27760</td>\n",
       "      <td>0.18900</td>\n",
       "      <td>0.07283</td>\n",
       "      <td>0.3184</td>\n",
       "      <td>0.08183</td>\n",
       "    </tr>\n",
       "    <tr>\n",
       "      <th>21</th>\n",
       "      <td>0</td>\n",
       "      <td>9.504</td>\n",
       "      <td>12.44</td>\n",
       "      <td>60.34</td>\n",
       "      <td>273.9</td>\n",
       "      <td>0.10240</td>\n",
       "      <td>0.06492</td>\n",
       "      <td>0.02956</td>\n",
       "      <td>0.020760</td>\n",
       "      <td>0.1815</td>\n",
       "      <td>...</td>\n",
       "      <td>10.230</td>\n",
       "      <td>15.66</td>\n",
       "      <td>65.13</td>\n",
       "      <td>314.9</td>\n",
       "      <td>0.13240</td>\n",
       "      <td>0.11480</td>\n",
       "      <td>0.08867</td>\n",
       "      <td>0.06227</td>\n",
       "      <td>0.2450</td>\n",
       "      <td>0.07773</td>\n",
       "    </tr>\n",
       "    <tr>\n",
       "      <th>37</th>\n",
       "      <td>0</td>\n",
       "      <td>13.030</td>\n",
       "      <td>18.42</td>\n",
       "      <td>82.61</td>\n",
       "      <td>523.8</td>\n",
       "      <td>0.08983</td>\n",
       "      <td>0.03766</td>\n",
       "      <td>0.02562</td>\n",
       "      <td>0.029230</td>\n",
       "      <td>0.1467</td>\n",
       "      <td>...</td>\n",
       "      <td>13.300</td>\n",
       "      <td>22.81</td>\n",
       "      <td>84.46</td>\n",
       "      <td>545.9</td>\n",
       "      <td>0.09701</td>\n",
       "      <td>0.04619</td>\n",
       "      <td>0.04833</td>\n",
       "      <td>0.05013</td>\n",
       "      <td>0.1987</td>\n",
       "      <td>0.06169</td>\n",
       "    </tr>\n",
       "    <tr>\n",
       "      <th>46</th>\n",
       "      <td>0</td>\n",
       "      <td>8.196</td>\n",
       "      <td>16.84</td>\n",
       "      <td>51.71</td>\n",
       "      <td>201.9</td>\n",
       "      <td>0.08600</td>\n",
       "      <td>0.05943</td>\n",
       "      <td>0.01588</td>\n",
       "      <td>0.005917</td>\n",
       "      <td>0.1769</td>\n",
       "      <td>...</td>\n",
       "      <td>8.964</td>\n",
       "      <td>21.96</td>\n",
       "      <td>57.26</td>\n",
       "      <td>242.2</td>\n",
       "      <td>0.12970</td>\n",
       "      <td>0.13570</td>\n",
       "      <td>0.06880</td>\n",
       "      <td>0.02564</td>\n",
       "      <td>0.3105</td>\n",
       "      <td>0.07409</td>\n",
       "    </tr>\n",
       "    <tr>\n",
       "      <th>...</th>\n",
       "      <td>...</td>\n",
       "      <td>...</td>\n",
       "      <td>...</td>\n",
       "      <td>...</td>\n",
       "      <td>...</td>\n",
       "      <td>...</td>\n",
       "      <td>...</td>\n",
       "      <td>...</td>\n",
       "      <td>...</td>\n",
       "      <td>...</td>\n",
       "      <td>...</td>\n",
       "      <td>...</td>\n",
       "      <td>...</td>\n",
       "      <td>...</td>\n",
       "      <td>...</td>\n",
       "      <td>...</td>\n",
       "      <td>...</td>\n",
       "      <td>...</td>\n",
       "      <td>...</td>\n",
       "      <td>...</td>\n",
       "      <td>...</td>\n",
       "    </tr>\n",
       "    <tr>\n",
       "      <th>343</th>\n",
       "      <td>1</td>\n",
       "      <td>19.680</td>\n",
       "      <td>21.68</td>\n",
       "      <td>129.90</td>\n",
       "      <td>1194.0</td>\n",
       "      <td>0.09797</td>\n",
       "      <td>0.13390</td>\n",
       "      <td>0.18630</td>\n",
       "      <td>0.110300</td>\n",
       "      <td>0.2082</td>\n",
       "      <td>...</td>\n",
       "      <td>22.750</td>\n",
       "      <td>34.66</td>\n",
       "      <td>157.60</td>\n",
       "      <td>1540.0</td>\n",
       "      <td>0.12180</td>\n",
       "      <td>0.34580</td>\n",
       "      <td>0.47340</td>\n",
       "      <td>0.22550</td>\n",
       "      <td>0.4045</td>\n",
       "      <td>0.07918</td>\n",
       "    </tr>\n",
       "    <tr>\n",
       "      <th>141</th>\n",
       "      <td>1</td>\n",
       "      <td>16.110</td>\n",
       "      <td>18.05</td>\n",
       "      <td>105.10</td>\n",
       "      <td>813.0</td>\n",
       "      <td>0.09721</td>\n",
       "      <td>0.11370</td>\n",
       "      <td>0.09447</td>\n",
       "      <td>0.059430</td>\n",
       "      <td>0.1861</td>\n",
       "      <td>...</td>\n",
       "      <td>19.920</td>\n",
       "      <td>25.27</td>\n",
       "      <td>129.00</td>\n",
       "      <td>1233.0</td>\n",
       "      <td>0.13140</td>\n",
       "      <td>0.22360</td>\n",
       "      <td>0.28020</td>\n",
       "      <td>0.12160</td>\n",
       "      <td>0.2792</td>\n",
       "      <td>0.08158</td>\n",
       "    </tr>\n",
       "    <tr>\n",
       "      <th>321</th>\n",
       "      <td>1</td>\n",
       "      <td>20.160</td>\n",
       "      <td>19.66</td>\n",
       "      <td>131.10</td>\n",
       "      <td>1274.0</td>\n",
       "      <td>0.08020</td>\n",
       "      <td>0.08564</td>\n",
       "      <td>0.11550</td>\n",
       "      <td>0.077260</td>\n",
       "      <td>0.1928</td>\n",
       "      <td>...</td>\n",
       "      <td>23.060</td>\n",
       "      <td>23.03</td>\n",
       "      <td>150.20</td>\n",
       "      <td>1657.0</td>\n",
       "      <td>0.10540</td>\n",
       "      <td>0.15370</td>\n",
       "      <td>0.26060</td>\n",
       "      <td>0.14250</td>\n",
       "      <td>0.3055</td>\n",
       "      <td>0.05933</td>\n",
       "    </tr>\n",
       "    <tr>\n",
       "      <th>283</th>\n",
       "      <td>1</td>\n",
       "      <td>16.240</td>\n",
       "      <td>18.77</td>\n",
       "      <td>108.80</td>\n",
       "      <td>805.1</td>\n",
       "      <td>0.10660</td>\n",
       "      <td>0.18020</td>\n",
       "      <td>0.19480</td>\n",
       "      <td>0.090520</td>\n",
       "      <td>0.1876</td>\n",
       "      <td>...</td>\n",
       "      <td>18.550</td>\n",
       "      <td>25.09</td>\n",
       "      <td>126.90</td>\n",
       "      <td>1031.0</td>\n",
       "      <td>0.13650</td>\n",
       "      <td>0.47060</td>\n",
       "      <td>0.50260</td>\n",
       "      <td>0.17320</td>\n",
       "      <td>0.2770</td>\n",
       "      <td>0.10630</td>\n",
       "    </tr>\n",
       "    <tr>\n",
       "      <th>33</th>\n",
       "      <td>1</td>\n",
       "      <td>19.270</td>\n",
       "      <td>26.47</td>\n",
       "      <td>127.90</td>\n",
       "      <td>1162.0</td>\n",
       "      <td>0.09401</td>\n",
       "      <td>0.17190</td>\n",
       "      <td>0.16570</td>\n",
       "      <td>0.075930</td>\n",
       "      <td>0.1853</td>\n",
       "      <td>...</td>\n",
       "      <td>24.150</td>\n",
       "      <td>30.90</td>\n",
       "      <td>161.40</td>\n",
       "      <td>1813.0</td>\n",
       "      <td>0.15090</td>\n",
       "      <td>0.65900</td>\n",
       "      <td>0.60910</td>\n",
       "      <td>0.17850</td>\n",
       "      <td>0.3672</td>\n",
       "      <td>0.11230</td>\n",
       "    </tr>\n",
       "  </tbody>\n",
       "</table>\n",
       "<p>714 rows × 31 columns</p>\n",
       "</div>"
      ],
      "text/plain": [
       "     diagnosis  radius_mean  texture_mean  perimeter_mean  area_mean  \\\n",
       "19           0       13.540         14.36           87.46      566.3   \n",
       "20           0       13.080         15.71           85.63      520.0   \n",
       "21           0        9.504         12.44           60.34      273.9   \n",
       "37           0       13.030         18.42           82.61      523.8   \n",
       "46           0        8.196         16.84           51.71      201.9   \n",
       "..         ...          ...           ...             ...        ...   \n",
       "343          1       19.680         21.68          129.90     1194.0   \n",
       "141          1       16.110         18.05          105.10      813.0   \n",
       "321          1       20.160         19.66          131.10     1274.0   \n",
       "283          1       16.240         18.77          108.80      805.1   \n",
       "33           1       19.270         26.47          127.90     1162.0   \n",
       "\n",
       "     smoothness_mean  compactness_mean  concavity_mean  concave points_mean  \\\n",
       "19           0.09779           0.08129         0.06664             0.047810   \n",
       "20           0.10750           0.12700         0.04568             0.031100   \n",
       "21           0.10240           0.06492         0.02956             0.020760   \n",
       "37           0.08983           0.03766         0.02562             0.029230   \n",
       "46           0.08600           0.05943         0.01588             0.005917   \n",
       "..               ...               ...             ...                  ...   \n",
       "343          0.09797           0.13390         0.18630             0.110300   \n",
       "141          0.09721           0.11370         0.09447             0.059430   \n",
       "321          0.08020           0.08564         0.11550             0.077260   \n",
       "283          0.10660           0.18020         0.19480             0.090520   \n",
       "33           0.09401           0.17190         0.16570             0.075930   \n",
       "\n",
       "     symmetry_mean  ...  radius_worst  texture_worst  perimeter_worst  \\\n",
       "19          0.1885  ...        15.110          19.26            99.70   \n",
       "20          0.1967  ...        14.500          20.49            96.09   \n",
       "21          0.1815  ...        10.230          15.66            65.13   \n",
       "37          0.1467  ...        13.300          22.81            84.46   \n",
       "46          0.1769  ...         8.964          21.96            57.26   \n",
       "..             ...  ...           ...            ...              ...   \n",
       "343         0.2082  ...        22.750          34.66           157.60   \n",
       "141         0.1861  ...        19.920          25.27           129.00   \n",
       "321         0.1928  ...        23.060          23.03           150.20   \n",
       "283         0.1876  ...        18.550          25.09           126.90   \n",
       "33          0.1853  ...        24.150          30.90           161.40   \n",
       "\n",
       "     area_worst  smoothness_worst  compactness_worst  concavity_worst  \\\n",
       "19        711.2           0.14400            0.17730          0.23900   \n",
       "20        630.5           0.13120            0.27760          0.18900   \n",
       "21        314.9           0.13240            0.11480          0.08867   \n",
       "37        545.9           0.09701            0.04619          0.04833   \n",
       "46        242.2           0.12970            0.13570          0.06880   \n",
       "..          ...               ...                ...              ...   \n",
       "343      1540.0           0.12180            0.34580          0.47340   \n",
       "141      1233.0           0.13140            0.22360          0.28020   \n",
       "321      1657.0           0.10540            0.15370          0.26060   \n",
       "283      1031.0           0.13650            0.47060          0.50260   \n",
       "33       1813.0           0.15090            0.65900          0.60910   \n",
       "\n",
       "     concave points_worst  symmetry_worst  fractal_dimension_worst  \n",
       "19                0.12880          0.2977                  0.07259  \n",
       "20                0.07283          0.3184                  0.08183  \n",
       "21                0.06227          0.2450                  0.07773  \n",
       "37                0.05013          0.1987                  0.06169  \n",
       "46                0.02564          0.3105                  0.07409  \n",
       "..                    ...             ...                      ...  \n",
       "343               0.22550          0.4045                  0.07918  \n",
       "141               0.12160          0.2792                  0.08158  \n",
       "321               0.14250          0.3055                  0.05933  \n",
       "283               0.17320          0.2770                  0.10630  \n",
       "33                0.17850          0.3672                  0.11230  \n",
       "\n",
       "[714 rows x 31 columns]"
      ]
     },
     "execution_count": 12,
     "metadata": {},
     "output_type": "execute_result"
    }
   ],
   "source": [
    "data_upsampled"
   ]
  },
  {
   "cell_type": "code",
   "execution_count": 13,
   "id": "7be7bc84",
   "metadata": {},
   "outputs": [],
   "source": [
    "# Check for duplicate rows\n",
    "duplicate_rows = data_upsampled[data_upsampled.duplicated(keep = 'last')]"
   ]
  },
  {
   "cell_type": "code",
   "execution_count": 14,
   "id": "14f3e1e8",
   "metadata": {},
   "outputs": [
    {
     "data": {
      "text/html": [
       "<div>\n",
       "<style scoped>\n",
       "    .dataframe tbody tr th:only-of-type {\n",
       "        vertical-align: middle;\n",
       "    }\n",
       "\n",
       "    .dataframe tbody tr th {\n",
       "        vertical-align: top;\n",
       "    }\n",
       "\n",
       "    .dataframe thead th {\n",
       "        text-align: right;\n",
       "    }\n",
       "</style>\n",
       "<table border=\"1\" class=\"dataframe\">\n",
       "  <thead>\n",
       "    <tr style=\"text-align: right;\">\n",
       "      <th></th>\n",
       "      <th>diagnosis</th>\n",
       "      <th>radius_mean</th>\n",
       "      <th>texture_mean</th>\n",
       "      <th>perimeter_mean</th>\n",
       "      <th>area_mean</th>\n",
       "      <th>smoothness_mean</th>\n",
       "      <th>compactness_mean</th>\n",
       "      <th>concavity_mean</th>\n",
       "      <th>concave points_mean</th>\n",
       "      <th>symmetry_mean</th>\n",
       "      <th>...</th>\n",
       "      <th>radius_worst</th>\n",
       "      <th>texture_worst</th>\n",
       "      <th>perimeter_worst</th>\n",
       "      <th>area_worst</th>\n",
       "      <th>smoothness_worst</th>\n",
       "      <th>compactness_worst</th>\n",
       "      <th>concavity_worst</th>\n",
       "      <th>concave points_worst</th>\n",
       "      <th>symmetry_worst</th>\n",
       "      <th>fractal_dimension_worst</th>\n",
       "    </tr>\n",
       "  </thead>\n",
       "  <tbody>\n",
       "    <tr>\n",
       "      <th>210</th>\n",
       "      <td>1</td>\n",
       "      <td>20.58</td>\n",
       "      <td>22.14</td>\n",
       "      <td>134.70</td>\n",
       "      <td>1290.0</td>\n",
       "      <td>0.09090</td>\n",
       "      <td>0.13480</td>\n",
       "      <td>0.16400</td>\n",
       "      <td>0.09561</td>\n",
       "      <td>0.1765</td>\n",
       "      <td>...</td>\n",
       "      <td>23.24</td>\n",
       "      <td>27.84</td>\n",
       "      <td>158.3</td>\n",
       "      <td>1656.0</td>\n",
       "      <td>0.1178</td>\n",
       "      <td>0.2920</td>\n",
       "      <td>0.3861</td>\n",
       "      <td>0.1920</td>\n",
       "      <td>0.2909</td>\n",
       "      <td>0.05865</td>\n",
       "    </tr>\n",
       "    <tr>\n",
       "      <th>253</th>\n",
       "      <td>1</td>\n",
       "      <td>17.30</td>\n",
       "      <td>17.08</td>\n",
       "      <td>113.00</td>\n",
       "      <td>928.2</td>\n",
       "      <td>0.10080</td>\n",
       "      <td>0.10410</td>\n",
       "      <td>0.12660</td>\n",
       "      <td>0.08353</td>\n",
       "      <td>0.1813</td>\n",
       "      <td>...</td>\n",
       "      <td>19.85</td>\n",
       "      <td>25.09</td>\n",
       "      <td>130.9</td>\n",
       "      <td>1222.0</td>\n",
       "      <td>0.1416</td>\n",
       "      <td>0.2405</td>\n",
       "      <td>0.3378</td>\n",
       "      <td>0.1857</td>\n",
       "      <td>0.3138</td>\n",
       "      <td>0.08113</td>\n",
       "    </tr>\n",
       "    <tr>\n",
       "      <th>105</th>\n",
       "      <td>1</td>\n",
       "      <td>13.11</td>\n",
       "      <td>15.56</td>\n",
       "      <td>87.21</td>\n",
       "      <td>530.2</td>\n",
       "      <td>0.13980</td>\n",
       "      <td>0.17650</td>\n",
       "      <td>0.20710</td>\n",
       "      <td>0.09601</td>\n",
       "      <td>0.1925</td>\n",
       "      <td>...</td>\n",
       "      <td>16.31</td>\n",
       "      <td>22.40</td>\n",
       "      <td>106.4</td>\n",
       "      <td>827.2</td>\n",
       "      <td>0.1862</td>\n",
       "      <td>0.4099</td>\n",
       "      <td>0.6376</td>\n",
       "      <td>0.1986</td>\n",
       "      <td>0.3147</td>\n",
       "      <td>0.14050</td>\n",
       "    </tr>\n",
       "    <tr>\n",
       "      <th>193</th>\n",
       "      <td>1</td>\n",
       "      <td>12.34</td>\n",
       "      <td>26.86</td>\n",
       "      <td>81.15</td>\n",
       "      <td>477.4</td>\n",
       "      <td>0.10340</td>\n",
       "      <td>0.13530</td>\n",
       "      <td>0.10850</td>\n",
       "      <td>0.04562</td>\n",
       "      <td>0.1943</td>\n",
       "      <td>...</td>\n",
       "      <td>15.65</td>\n",
       "      <td>39.34</td>\n",
       "      <td>101.7</td>\n",
       "      <td>768.9</td>\n",
       "      <td>0.1785</td>\n",
       "      <td>0.4706</td>\n",
       "      <td>0.4425</td>\n",
       "      <td>0.1459</td>\n",
       "      <td>0.3215</td>\n",
       "      <td>0.12050</td>\n",
       "    </tr>\n",
       "    <tr>\n",
       "      <th>17</th>\n",
       "      <td>1</td>\n",
       "      <td>16.13</td>\n",
       "      <td>20.68</td>\n",
       "      <td>108.10</td>\n",
       "      <td>798.8</td>\n",
       "      <td>0.11700</td>\n",
       "      <td>0.20220</td>\n",
       "      <td>0.17220</td>\n",
       "      <td>0.10280</td>\n",
       "      <td>0.2164</td>\n",
       "      <td>...</td>\n",
       "      <td>20.96</td>\n",
       "      <td>31.48</td>\n",
       "      <td>136.8</td>\n",
       "      <td>1315.0</td>\n",
       "      <td>0.1789</td>\n",
       "      <td>0.4233</td>\n",
       "      <td>0.4784</td>\n",
       "      <td>0.2073</td>\n",
       "      <td>0.3706</td>\n",
       "      <td>0.11420</td>\n",
       "    </tr>\n",
       "    <tr>\n",
       "      <th>...</th>\n",
       "      <td>...</td>\n",
       "      <td>...</td>\n",
       "      <td>...</td>\n",
       "      <td>...</td>\n",
       "      <td>...</td>\n",
       "      <td>...</td>\n",
       "      <td>...</td>\n",
       "      <td>...</td>\n",
       "      <td>...</td>\n",
       "      <td>...</td>\n",
       "      <td>...</td>\n",
       "      <td>...</td>\n",
       "      <td>...</td>\n",
       "      <td>...</td>\n",
       "      <td>...</td>\n",
       "      <td>...</td>\n",
       "      <td>...</td>\n",
       "      <td>...</td>\n",
       "      <td>...</td>\n",
       "      <td>...</td>\n",
       "      <td>...</td>\n",
       "    </tr>\n",
       "    <tr>\n",
       "      <th>199</th>\n",
       "      <td>1</td>\n",
       "      <td>14.45</td>\n",
       "      <td>20.22</td>\n",
       "      <td>94.49</td>\n",
       "      <td>642.7</td>\n",
       "      <td>0.09872</td>\n",
       "      <td>0.12060</td>\n",
       "      <td>0.11800</td>\n",
       "      <td>0.05980</td>\n",
       "      <td>0.1950</td>\n",
       "      <td>...</td>\n",
       "      <td>18.33</td>\n",
       "      <td>30.12</td>\n",
       "      <td>117.9</td>\n",
       "      <td>1044.0</td>\n",
       "      <td>0.1552</td>\n",
       "      <td>0.4056</td>\n",
       "      <td>0.4967</td>\n",
       "      <td>0.1838</td>\n",
       "      <td>0.4753</td>\n",
       "      <td>0.10130</td>\n",
       "    </tr>\n",
       "    <tr>\n",
       "      <th>368</th>\n",
       "      <td>1</td>\n",
       "      <td>21.71</td>\n",
       "      <td>17.25</td>\n",
       "      <td>140.90</td>\n",
       "      <td>1546.0</td>\n",
       "      <td>0.09384</td>\n",
       "      <td>0.08562</td>\n",
       "      <td>0.11680</td>\n",
       "      <td>0.08465</td>\n",
       "      <td>0.1717</td>\n",
       "      <td>...</td>\n",
       "      <td>30.75</td>\n",
       "      <td>26.44</td>\n",
       "      <td>199.5</td>\n",
       "      <td>3143.0</td>\n",
       "      <td>0.1363</td>\n",
       "      <td>0.1628</td>\n",
       "      <td>0.2861</td>\n",
       "      <td>0.1820</td>\n",
       "      <td>0.2510</td>\n",
       "      <td>0.06494</td>\n",
       "    </tr>\n",
       "    <tr>\n",
       "      <th>1</th>\n",
       "      <td>1</td>\n",
       "      <td>20.57</td>\n",
       "      <td>17.77</td>\n",
       "      <td>132.90</td>\n",
       "      <td>1326.0</td>\n",
       "      <td>0.08474</td>\n",
       "      <td>0.07864</td>\n",
       "      <td>0.08690</td>\n",
       "      <td>0.07017</td>\n",
       "      <td>0.1812</td>\n",
       "      <td>...</td>\n",
       "      <td>24.99</td>\n",
       "      <td>23.41</td>\n",
       "      <td>158.8</td>\n",
       "      <td>1956.0</td>\n",
       "      <td>0.1238</td>\n",
       "      <td>0.1866</td>\n",
       "      <td>0.2416</td>\n",
       "      <td>0.1860</td>\n",
       "      <td>0.2750</td>\n",
       "      <td>0.08902</td>\n",
       "    </tr>\n",
       "    <tr>\n",
       "      <th>156</th>\n",
       "      <td>1</td>\n",
       "      <td>17.68</td>\n",
       "      <td>20.74</td>\n",
       "      <td>117.40</td>\n",
       "      <td>963.7</td>\n",
       "      <td>0.11150</td>\n",
       "      <td>0.16650</td>\n",
       "      <td>0.18550</td>\n",
       "      <td>0.10540</td>\n",
       "      <td>0.1971</td>\n",
       "      <td>...</td>\n",
       "      <td>20.47</td>\n",
       "      <td>25.11</td>\n",
       "      <td>132.9</td>\n",
       "      <td>1302.0</td>\n",
       "      <td>0.1418</td>\n",
       "      <td>0.3498</td>\n",
       "      <td>0.3583</td>\n",
       "      <td>0.1515</td>\n",
       "      <td>0.2463</td>\n",
       "      <td>0.07738</td>\n",
       "    </tr>\n",
       "    <tr>\n",
       "      <th>141</th>\n",
       "      <td>1</td>\n",
       "      <td>16.11</td>\n",
       "      <td>18.05</td>\n",
       "      <td>105.10</td>\n",
       "      <td>813.0</td>\n",
       "      <td>0.09721</td>\n",
       "      <td>0.11370</td>\n",
       "      <td>0.09447</td>\n",
       "      <td>0.05943</td>\n",
       "      <td>0.1861</td>\n",
       "      <td>...</td>\n",
       "      <td>19.92</td>\n",
       "      <td>25.27</td>\n",
       "      <td>129.0</td>\n",
       "      <td>1233.0</td>\n",
       "      <td>0.1314</td>\n",
       "      <td>0.2236</td>\n",
       "      <td>0.2802</td>\n",
       "      <td>0.1216</td>\n",
       "      <td>0.2792</td>\n",
       "      <td>0.08158</td>\n",
       "    </tr>\n",
       "  </tbody>\n",
       "</table>\n",
       "<p>185 rows × 31 columns</p>\n",
       "</div>"
      ],
      "text/plain": [
       "     diagnosis  radius_mean  texture_mean  perimeter_mean  area_mean  \\\n",
       "210          1        20.58         22.14          134.70     1290.0   \n",
       "253          1        17.30         17.08          113.00      928.2   \n",
       "105          1        13.11         15.56           87.21      530.2   \n",
       "193          1        12.34         26.86           81.15      477.4   \n",
       "17           1        16.13         20.68          108.10      798.8   \n",
       "..         ...          ...           ...             ...        ...   \n",
       "199          1        14.45         20.22           94.49      642.7   \n",
       "368          1        21.71         17.25          140.90     1546.0   \n",
       "1            1        20.57         17.77          132.90     1326.0   \n",
       "156          1        17.68         20.74          117.40      963.7   \n",
       "141          1        16.11         18.05          105.10      813.0   \n",
       "\n",
       "     smoothness_mean  compactness_mean  concavity_mean  concave points_mean  \\\n",
       "210          0.09090           0.13480         0.16400              0.09561   \n",
       "253          0.10080           0.10410         0.12660              0.08353   \n",
       "105          0.13980           0.17650         0.20710              0.09601   \n",
       "193          0.10340           0.13530         0.10850              0.04562   \n",
       "17           0.11700           0.20220         0.17220              0.10280   \n",
       "..               ...               ...             ...                  ...   \n",
       "199          0.09872           0.12060         0.11800              0.05980   \n",
       "368          0.09384           0.08562         0.11680              0.08465   \n",
       "1            0.08474           0.07864         0.08690              0.07017   \n",
       "156          0.11150           0.16650         0.18550              0.10540   \n",
       "141          0.09721           0.11370         0.09447              0.05943   \n",
       "\n",
       "     symmetry_mean  ...  radius_worst  texture_worst  perimeter_worst  \\\n",
       "210         0.1765  ...         23.24          27.84            158.3   \n",
       "253         0.1813  ...         19.85          25.09            130.9   \n",
       "105         0.1925  ...         16.31          22.40            106.4   \n",
       "193         0.1943  ...         15.65          39.34            101.7   \n",
       "17          0.2164  ...         20.96          31.48            136.8   \n",
       "..             ...  ...           ...            ...              ...   \n",
       "199         0.1950  ...         18.33          30.12            117.9   \n",
       "368         0.1717  ...         30.75          26.44            199.5   \n",
       "1           0.1812  ...         24.99          23.41            158.8   \n",
       "156         0.1971  ...         20.47          25.11            132.9   \n",
       "141         0.1861  ...         19.92          25.27            129.0   \n",
       "\n",
       "     area_worst  smoothness_worst  compactness_worst  concavity_worst  \\\n",
       "210      1656.0            0.1178             0.2920           0.3861   \n",
       "253      1222.0            0.1416             0.2405           0.3378   \n",
       "105       827.2            0.1862             0.4099           0.6376   \n",
       "193       768.9            0.1785             0.4706           0.4425   \n",
       "17       1315.0            0.1789             0.4233           0.4784   \n",
       "..          ...               ...                ...              ...   \n",
       "199      1044.0            0.1552             0.4056           0.4967   \n",
       "368      3143.0            0.1363             0.1628           0.2861   \n",
       "1        1956.0            0.1238             0.1866           0.2416   \n",
       "156      1302.0            0.1418             0.3498           0.3583   \n",
       "141      1233.0            0.1314             0.2236           0.2802   \n",
       "\n",
       "     concave points_worst  symmetry_worst  fractal_dimension_worst  \n",
       "210                0.1920          0.2909                  0.05865  \n",
       "253                0.1857          0.3138                  0.08113  \n",
       "105                0.1986          0.3147                  0.14050  \n",
       "193                0.1459          0.3215                  0.12050  \n",
       "17                 0.2073          0.3706                  0.11420  \n",
       "..                    ...             ...                      ...  \n",
       "199                0.1838          0.4753                  0.10130  \n",
       "368                0.1820          0.2510                  0.06494  \n",
       "1                  0.1860          0.2750                  0.08902  \n",
       "156                0.1515          0.2463                  0.07738  \n",
       "141                0.1216          0.2792                  0.08158  \n",
       "\n",
       "[185 rows x 31 columns]"
      ]
     },
     "execution_count": 14,
     "metadata": {},
     "output_type": "execute_result"
    }
   ],
   "source": [
    "duplicate_rows"
   ]
  },
  {
   "cell_type": "code",
   "execution_count": 15,
   "id": "aa1e21d7",
   "metadata": {},
   "outputs": [
    {
     "name": "stdout",
     "output_type": "stream",
     "text": [
      "The dataset now contains 714 rows and 31 columns\n"
     ]
    }
   ],
   "source": [
    "rows, cols = data_upsampled.shape\n",
    "print(f'The dataset now contains {rows} rows and {cols} columns')\n"
   ]
  },
  {
   "cell_type": "code",
   "execution_count": 16,
   "id": "ab1c0357",
   "metadata": {},
   "outputs": [
    {
     "data": {
      "text/plain": [
       "<AxesSubplot:>"
      ]
     },
     "execution_count": 16,
     "metadata": {},
     "output_type": "execute_result"
    },
    {
     "data": {
      "image/png": "[encoded data removed]",
      "text/plain": [
       "<Figure size 432x288 with 1 Axes>"
      ]
     },
     "metadata": {
      "needs_background": "light"
     },
     "output_type": "display_data"
    }
   ],
   "source": [
    "data_upsampled['diagnosis'].value_counts().plot(kind = 'bar')"
   ]
  },
  {
   "cell_type": "code",
   "execution_count": 17,
   "id": "34e33733",
   "metadata": {},
   "outputs": [],
   "source": [
    "#split the data into training and testing sets\n",
    "X = data_upsampled.drop(columns = 'diagnosis')\n",
    "\n",
    "y = data_upsampled['diagnosis']"
   ]
  },
  {
   "cell_type": "code",
   "execution_count": 18,
   "id": "f35e3ca9",
   "metadata": {},
   "outputs": [],
   "source": [
    "X_train, X_test, y_train, y_test = train_test_split(X, y, test_size = 0.25, random_state = 0)"
   ]
  },
  {
   "cell_type": "code",
   "execution_count": 19,
   "id": "e45338da",
   "metadata": {},
   "outputs": [
    {
     "data": {
      "text/plain": [
       "0.9720670391061452"
      ]
     },
     "execution_count": 19,
     "metadata": {},
     "output_type": "execute_result"
    }
   ],
   "source": [
    "lrmodel = LogisticRegression(solver='liblinear',multi_class='ovr')\n",
    "lrmodel.fit(X_train, y_train)\n",
    "lrmodel.score(X_test, y_test)\n"
   ]
  },
  {
   "cell_type": "code",
   "execution_count": 20,
   "id": "c43c1717",
   "metadata": {},
   "outputs": [],
   "source": [
    "predictions = lrmodel.predict(X_test)"
   ]
  },
  {
   "cell_type": "code",
   "execution_count": 21,
   "id": "7bc6fe13",
   "metadata": {},
   "outputs": [
    {
     "data": {
      "text/plain": [
       "array([[93,  0],\n",
       "       [ 5, 81]], dtype=int64)"
      ]
     },
     "execution_count": 21,
     "metadata": {},
     "output_type": "execute_result"
    }
   ],
   "source": [
    "cm = confusion_matrix(y_test, predictions)\n",
    "cm"
   ]
  },
  {
   "cell_type": "code",
   "execution_count": 22,
   "id": "61202a18",
   "metadata": {},
   "outputs": [
    {
     "data": {
      "text/plain": [
       "Text(69.0, 0.5, 'Actual')"
      ]
     },
     "execution_count": 22,
     "metadata": {},
     "output_type": "execute_result"
    },
    {
     "data": {
      "image/png": "[encoded data removed]",
      "text/plain": [
       "<Figure size 720x504 with 2 Axes>"
      ]
     },
     "metadata": {
      "needs_background": "light"
     },
     "output_type": "display_data"
    }
   ],
   "source": [
    "import seaborn as sn\n",
    "plt.figure(figsize=(10,7))\n",
    "sn.heatmap(cm, annot=True)\n",
    "plt.xlabel('Predicted')\n",
    "plt.ylabel('Actual')"
   ]
  },
  {
   "cell_type": "code",
   "execution_count": 23,
   "id": "3c2c3a14",
   "metadata": {},
   "outputs": [
    {
     "name": "stdout",
     "output_type": "stream",
     "text": [
      "Classification report is : \n",
      "               precision    recall  f1-score   support\n",
      "\n",
      "           0       0.95      1.00      0.97        93\n",
      "           1       1.00      0.94      0.97        86\n",
      "\n",
      "    accuracy                           0.97       179\n",
      "   macro avg       0.97      0.97      0.97       179\n",
      "weighted avg       0.97      0.97      0.97       179\n",
      "\n"
     ]
    }
   ],
   "source": [
    "print('Classification report is : \\n', classification_report(y_test, predictions))"
   ]
  },
  {
   "cell_type": "markdown",
   "id": "37684ebf",
   "metadata": {},
   "source": [
    "# Recall confusion matrix : \n",
    "## True positve     ;      False positive\n",
    "##  False negative   ;   True Negative"
   ]
  },
  {
   "cell_type": "code",
   "execution_count": 24,
   "id": "61960100",
   "metadata": {},
   "outputs": [],
   "source": [
    "# Checking if variance of some features are multiple folds of the others\n",
    "X_var = np.var(X_train, axis = 0)"
   ]
  },
  {
   "cell_type": "code",
   "execution_count": 25,
   "id": "c337968c",
   "metadata": {},
   "outputs": [
    {
     "data": {
      "text/plain": [
       "radius_mean                    14.645897\n",
       "texture_mean                   17.895234\n",
       "perimeter_mean                695.569444\n",
       "area_mean                  159479.349548\n",
       "smoothness_mean                 0.000209\n",
       "compactness_mean                0.003432\n",
       "concavity_mean                  0.007347\n",
       "concave points_mean             0.001743\n",
       "symmetry_mean                   0.000781\n",
       "fractal_dimension_mean          0.000064\n",
       "radius_se                       0.109145\n",
       "texture_se                      0.259024\n",
       "perimeter_se                    5.891398\n",
       "area_se                      3349.774872\n",
       "smoothness_se                   0.000008\n",
       "compactness_se                  0.000379\n",
       "concavity_se                    0.000801\n",
       "concave points_se               0.000038\n",
       "symmetry_se                     0.000079\n",
       "fractal_dimension_se            0.000007\n",
       "radius_worst                   27.530790\n",
       "texture_worst                  37.908863\n",
       "perimeter_worst              1331.423158\n",
       "area_worst                 417490.652131\n",
       "smoothness_worst                0.000617\n",
       "compactness_worst               0.032002\n",
       "concavity_worst                 0.047180\n",
       "concave points_worst            0.004758\n",
       "symmetry_worst                  0.005170\n",
       "fractal_dimension_worst         0.000413\n",
       "dtype: float64"
      ]
     },
     "execution_count": 25,
     "metadata": {},
     "output_type": "execute_result"
    }
   ],
   "source": [
    "X_var"
   ]
  },
  {
   "cell_type": "code",
   "execution_count": 26,
   "id": "04f08f81",
   "metadata": {},
   "outputs": [],
   "source": [
    "# The dataset needs to be standardized, judging from the results above\n",
    "# Standardizing the data from sklearn.prerocessing\n",
    "StdS = StandardScaler() # SScaler = preprocessing.StandardScaler().fit(X_train)\n",
    "Std_X_train = StdS.fit_transform(X_train) # Std_X_train = SScaler.transform(X_train)\n",
    "Std_X_test = StdS.transform(X_test) # Std_X_test = SScaler.transform(X_test)"
   ]
  },
  {
   "cell_type": "code",
   "execution_count": 27,
   "id": "1041e114",
   "metadata": {
    "scrolled": true
   },
   "outputs": [
    {
     "data": {
      "text/plain": [
       "array([1., 1., 1., 1., 1., 1., 1., 1., 1., 1., 1., 1., 1., 1., 1., 1., 1.,\n",
       "       1., 1., 1., 1., 1., 1., 1., 1., 1., 1., 1., 1., 1.])"
      ]
     },
     "execution_count": 27,
     "metadata": {},
     "output_type": "execute_result"
    }
   ],
   "source": [
    "X_var2 = np.var(Std_X_train, axis = 0)\n",
    "\n",
    "X_var2"
   ]
  },
  {
   "cell_type": "markdown",
   "id": "82eb0731",
   "metadata": {},
   "source": [
    "We can fit a LogisticRegression model on the regression dataset and retrieve the coeff_ property that contains the coefficients found for each input variable.\n",
    "\n",
    "These coefficients can provide the basis for a crude feature importance score. This assumes that the input variables have the same scale or have been scaled prior to fitting a model.\n",
    "\n",
    "Running the example fits the model, then reports the coefficient value for each feature."
   ]
  },
  {
   "cell_type": "markdown",
   "id": "a0d88fc9",
   "metadata": {},
   "source": [
    "Recall this is a classification problem with classes 0 and 1. Notice that the coefficients are both positive and negative. The positive scores indicate a feature that predicts class 1, whereas the negative scores indicate a feature that predicts class 0.\n",
    "\n",
    "A bar chart is then created for the feature importance scores.\n",
    "Now that we have seen the use of coefficients as importance scores"
   ]
  },
  {
   "cell_type": "code",
   "execution_count": 28,
   "id": "57e40b97",
   "metadata": {},
   "outputs": [
    {
     "data": {
      "text/plain": [
       "30"
      ]
     },
     "execution_count": 28,
     "metadata": {},
     "output_type": "execute_result"
    }
   ],
   "source": [
    "features = data.columns[1:]\n",
    "len(features)"
   ]
  },
  {
   "cell_type": "markdown",
   "id": "18c2e79e",
   "metadata": {},
   "source": [
    "# Logistic Regression does not have any critical hyperparameters to tune\n",
    "# I tried both the 'liblinear' for large dataset, and 'lbfgs'  for small dataset, solvers(regularizers) and got the exact same evaluation performance results"
   ]
  },
  {
   "cell_type": "code",
   "execution_count": 29,
   "id": "13ce5dbc",
   "metadata": {},
   "outputs": [],
   "source": [
    "# define the model\n",
    "model2 = LogisticRegression(solver='liblinear',multi_class='ovr')\n",
    "# fit the model\n",
    "model2.fit(Std_X_train, y_train)\n",
    "# get importance\n",
    "importance = model2.coef_[0]\n",
    "# summarize feature importance\n",
    "predictions2 = model2.predict(Std_X_test)"
   ]
  },
  {
   "cell_type": "code",
   "execution_count": 30,
   "id": "b65742dd",
   "metadata": {},
   "outputs": [
    {
     "data": {
      "text/plain": [
       "Text(69.0, 0.5, 'Actual')"
      ]
     },
     "execution_count": 30,
     "metadata": {},
     "output_type": "execute_result"
    },
    {
     "data": {
      "image/png": "[encoded data removed]",
      "text/plain": [
       "<Figure size 720x504 with 2 Axes>"
      ]
     },
     "metadata": {
      "needs_background": "light"
     },
     "output_type": "display_data"
    }
   ],
   "source": [
    "cm1 = confusion_matrix(y_test, predictions2)\n",
    "\n",
    "plt.figure(figsize=(10,7))\n",
    "sn.heatmap(cm1, annot=True)\n",
    "plt.xlabel('Predicted')\n",
    "plt.ylabel('Actual')"
   ]
  },
  {
   "cell_type": "code",
   "execution_count": 31,
   "id": "c7fb4a47",
   "metadata": {
    "scrolled": true
   },
   "outputs": [
    {
     "name": "stdout",
     "output_type": "stream",
     "text": [
      "Accuracy is : 0.9776536312849162\n",
      "\n",
      "Classification report is : \n",
      "               precision    recall  f1-score   support\n",
      "\n",
      "           0       0.96      1.00      0.98        93\n",
      "           1       1.00      0.95      0.98        86\n",
      "\n",
      "    accuracy                           0.98       179\n",
      "   macro avg       0.98      0.98      0.98       179\n",
      "weighted avg       0.98      0.98      0.98       179\n",
      "\n"
     ]
    }
   ],
   "source": [
    "print('Accuracy is :', accuracy_score(y_test, predictions2))\n",
    "print('')\n",
    "print('Classification report is : \\n', classification_report(y_test, predictions2))"
   ]
  },
  {
   "cell_type": "code",
   "execution_count": 32,
   "id": "8ac212ff",
   "metadata": {},
   "outputs": [
    {
     "name": "stdout",
     "output_type": "stream",
     "text": [
      "Feature:radius_mean 0.4537428960286966\n",
      "Feature:texture_mean 0.6934052148786408\n",
      "Feature:perimeter_mean 0.40434798809170097\n",
      "Feature:area_mean 0.4547825460131695\n",
      "Feature:smoothness_mean 0.7363646665345003\n",
      "Feature:compactness_mean -0.5176370843978338\n",
      "Feature:concavity_mean 0.6296330271453721\n",
      "Feature:concave points_mean 1.041644237866311\n",
      "Feature:symmetry_mean -0.4431946112841907\n",
      "Feature:fractal_dimension_mean -0.4307866454953537\n",
      "Feature:radius_se 1.4749376555038247\n",
      "Feature:texture_se 0.27436794189797203\n",
      "Feature:perimeter_se 1.0002167704946168\n",
      "Feature:area_se 0.8166787073461672\n",
      "Feature:smoothness_se -0.18940238096536735\n",
      "Feature:compactness_se -0.34152372126728586\n",
      "Feature:concavity_se 0.007443975635514585\n",
      "Feature:concave points_se 0.6055276835965374\n",
      "Feature:symmetry_se -0.3155029638096485\n",
      "Feature:fractal_dimension_se -0.6763495288549969\n",
      "Feature:radius_worst 0.9140593147470099\n",
      "Feature:texture_worst 0.7620051676170599\n",
      "Feature:perimeter_worst 0.8210031514288072\n",
      "Feature:area_worst 0.7406525011678374\n",
      "Feature:smoothness_worst 0.842959499896238\n",
      "Feature:compactness_worst -0.016599570297001737\n",
      "Feature:concavity_worst 0.9876130300051964\n",
      "Feature:concave points_worst 0.9072579447822162\n",
      "Feature:symmetry_worst 0.9738627562190268\n",
      "Feature:fractal_dimension_worst 0.026546041083445698\n"
     ]
    }
   ],
   "source": [
    "# Getting the feature importances\n",
    "for i,v in zip(features, importance):\n",
    "    print('Feature:'+ str(i), v)"
   ]
  },
  {
   "cell_type": "code",
   "execution_count": 33,
   "id": "3b51f713",
   "metadata": {},
   "outputs": [
    {
     "data": {
      "image/png": "[encoded data removed]",
      "text/plain": [
       "<Figure size 648x432 with 1 Axes>"
      ]
     },
     "metadata": {
      "needs_background": "light"
     },
     "output_type": "display_data"
    }
   ],
   "source": [
    "# Plot the feature importance\n",
    "fig, sub = plt.subplots(1, 1)\n",
    "fig.set_size_inches(9, 6)\n",
    "plt.plot([x for x in range(len(importance))], importance)\n",
    "plt.xlabel('# features')\n",
    "plt.ylabel('Importance')\n",
    "plt.xticks(range(1,31))\n",
    "plt.show()"
   ]
  },
  {
   "cell_type": "markdown",
   "id": "efbc5271",
   "metadata": {},
   "source": [
    "Now to remove the 10 least important feature according to the coefficient"
   ]
  },
  {
   "cell_type": "code",
   "execution_count": 34,
   "id": "e6f4886f",
   "metadata": {},
   "outputs": [
    {
     "name": "stdout",
     "output_type": "stream",
     "text": [
      "{0.4537428960286966: 'radius_mean', 0.6934052148786408: 'texture_mean', 0.40434798809170097: 'perimeter_mean', 0.4547825460131695: 'area_mean', 0.7363646665345003: 'smoothness_mean', -0.5176370843978338: 'compactness_mean', 0.6296330271453721: 'concavity_mean', 1.041644237866311: 'concave points_mean', -0.4431946112841907: 'symmetry_mean', -0.4307866454953537: 'fractal_dimension_mean', 1.4749376555038247: 'radius_se', 0.27436794189797203: 'texture_se', 1.0002167704946168: 'perimeter_se', 0.8166787073461672: 'area_se', -0.18940238096536735: 'smoothness_se', -0.34152372126728586: 'compactness_se', 0.007443975635514585: 'concavity_se', 0.6055276835965374: 'concave points_se', -0.3155029638096485: 'symmetry_se', -0.6763495288549969: 'fractal_dimension_se', 0.9140593147470099: 'radius_worst', 0.7620051676170599: 'texture_worst', 0.8210031514288072: 'perimeter_worst', 0.7406525011678374: 'area_worst', 0.842959499896238: 'smoothness_worst', -0.016599570297001737: 'compactness_worst', 0.9876130300051964: 'concavity_worst', 0.9072579447822162: 'concave points_worst', 0.9738627562190268: 'symmetry_worst', 0.026546041083445698: 'fractal_dimension_worst'}\n"
     ]
    }
   ],
   "source": [
    "ndata = {}\n",
    "for i,v in zip(features, importance):\n",
    "    ndata[v] = i\n",
    "print(ndata)"
   ]
  },
  {
   "cell_type": "code",
   "execution_count": 35,
   "id": "852e4257",
   "metadata": {},
   "outputs": [],
   "source": [
    "import copy"
   ]
  },
  {
   "cell_type": "code",
   "execution_count": 36,
   "id": "36b55a75",
   "metadata": {},
   "outputs": [],
   "source": [
    "dcopy = copy.deepcopy(ndata)\n",
    "for i in range(0, 10):\n",
    "     del dcopy[min(dcopy)]"
   ]
  },
  {
   "cell_type": "code",
   "execution_count": 37,
   "id": "756e482e",
   "metadata": {},
   "outputs": [
    {
     "name": "stdout",
     "output_type": "stream",
     "text": [
      "20\n"
     ]
    },
    {
     "data": {
      "text/plain": [
       "{0.4537428960286966: 'radius_mean',\n",
       " 0.6934052148786408: 'texture_mean',\n",
       " 0.40434798809170097: 'perimeter_mean',\n",
       " 0.4547825460131695: 'area_mean',\n",
       " 0.7363646665345003: 'smoothness_mean',\n",
       " 0.6296330271453721: 'concavity_mean',\n",
       " 1.041644237866311: 'concave points_mean',\n",
       " 1.4749376555038247: 'radius_se',\n",
       " 0.27436794189797203: 'texture_se',\n",
       " 1.0002167704946168: 'perimeter_se',\n",
       " 0.8166787073461672: 'area_se',\n",
       " 0.6055276835965374: 'concave points_se',\n",
       " 0.9140593147470099: 'radius_worst',\n",
       " 0.7620051676170599: 'texture_worst',\n",
       " 0.8210031514288072: 'perimeter_worst',\n",
       " 0.7406525011678374: 'area_worst',\n",
       " 0.842959499896238: 'smoothness_worst',\n",
       " 0.9876130300051964: 'concavity_worst',\n",
       " 0.9072579447822162: 'concave points_worst',\n",
       " 0.9738627562190268: 'symmetry_worst'}"
      ]
     },
     "execution_count": 37,
     "metadata": {},
     "output_type": "execute_result"
    }
   ],
   "source": [
    "# The 20 most significant features and their importance score\n",
    "print(len(dcopy))\n",
    "dcopy"
   ]
  },
  {
   "cell_type": "code",
   "execution_count": 38,
   "id": "567e7a91",
   "metadata": {},
   "outputs": [],
   "source": [
    "# using these 20 features in the upsampled data\n",
    "sub_features = []\n",
    "for i in dcopy:\n",
    "    sub_features.append(dcopy[i])"
   ]
  },
  {
   "cell_type": "code",
   "execution_count": 39,
   "id": "df9d9545",
   "metadata": {},
   "outputs": [
    {
     "data": {
      "text/plain": [
       "['radius_mean',\n",
       " 'texture_mean',\n",
       " 'perimeter_mean',\n",
       " 'area_mean',\n",
       " 'smoothness_mean',\n",
       " 'concavity_mean',\n",
       " 'concave points_mean',\n",
       " 'radius_se',\n",
       " 'texture_se',\n",
       " 'perimeter_se',\n",
       " 'area_se',\n",
       " 'concave points_se',\n",
       " 'radius_worst',\n",
       " 'texture_worst',\n",
       " 'perimeter_worst',\n",
       " 'area_worst',\n",
       " 'smoothness_worst',\n",
       " 'concavity_worst',\n",
       " 'concave points_worst',\n",
       " 'symmetry_worst']"
      ]
     },
     "execution_count": 39,
     "metadata": {},
     "output_type": "execute_result"
    }
   ],
   "source": [
    "sub_features"
   ]
  },
  {
   "cell_type": "code",
   "execution_count": 40,
   "id": "6b306111",
   "metadata": {},
   "outputs": [],
   "source": [
    "sub_data = data_upsampled[sub_features]"
   ]
  },
  {
   "cell_type": "code",
   "execution_count": 41,
   "id": "3fba6ff5",
   "metadata": {},
   "outputs": [
    {
     "data": {
      "text/html": [
       "<div>\n",
       "<style scoped>\n",
       "    .dataframe tbody tr th:only-of-type {\n",
       "        vertical-align: middle;\n",
       "    }\n",
       "\n",
       "    .dataframe tbody tr th {\n",
       "        vertical-align: top;\n",
       "    }\n",
       "\n",
       "    .dataframe thead th {\n",
       "        text-align: right;\n",
       "    }\n",
       "</style>\n",
       "<table border=\"1\" class=\"dataframe\">\n",
       "  <thead>\n",
       "    <tr style=\"text-align: right;\">\n",
       "      <th></th>\n",
       "      <th>radius_mean</th>\n",
       "      <th>texture_mean</th>\n",
       "      <th>perimeter_mean</th>\n",
       "      <th>area_mean</th>\n",
       "      <th>smoothness_mean</th>\n",
       "      <th>concavity_mean</th>\n",
       "      <th>concave points_mean</th>\n",
       "      <th>radius_se</th>\n",
       "      <th>texture_se</th>\n",
       "      <th>perimeter_se</th>\n",
       "      <th>area_se</th>\n",
       "      <th>concave points_se</th>\n",
       "      <th>radius_worst</th>\n",
       "      <th>texture_worst</th>\n",
       "      <th>perimeter_worst</th>\n",
       "      <th>area_worst</th>\n",
       "      <th>smoothness_worst</th>\n",
       "      <th>concavity_worst</th>\n",
       "      <th>concave points_worst</th>\n",
       "      <th>symmetry_worst</th>\n",
       "    </tr>\n",
       "  </thead>\n",
       "  <tbody>\n",
       "    <tr>\n",
       "      <th>19</th>\n",
       "      <td>13.540</td>\n",
       "      <td>14.36</td>\n",
       "      <td>87.46</td>\n",
       "      <td>566.3</td>\n",
       "      <td>0.09779</td>\n",
       "      <td>0.06664</td>\n",
       "      <td>0.047810</td>\n",
       "      <td>0.2699</td>\n",
       "      <td>0.7886</td>\n",
       "      <td>2.058</td>\n",
       "      <td>23.560</td>\n",
       "      <td>0.013150</td>\n",
       "      <td>15.110</td>\n",
       "      <td>19.26</td>\n",
       "      <td>99.70</td>\n",
       "      <td>711.2</td>\n",
       "      <td>0.14400</td>\n",
       "      <td>0.23900</td>\n",
       "      <td>0.12880</td>\n",
       "      <td>0.2977</td>\n",
       "    </tr>\n",
       "    <tr>\n",
       "      <th>20</th>\n",
       "      <td>13.080</td>\n",
       "      <td>15.71</td>\n",
       "      <td>85.63</td>\n",
       "      <td>520.0</td>\n",
       "      <td>0.10750</td>\n",
       "      <td>0.04568</td>\n",
       "      <td>0.031100</td>\n",
       "      <td>0.1852</td>\n",
       "      <td>0.7477</td>\n",
       "      <td>1.383</td>\n",
       "      <td>14.670</td>\n",
       "      <td>0.006490</td>\n",
       "      <td>14.500</td>\n",
       "      <td>20.49</td>\n",
       "      <td>96.09</td>\n",
       "      <td>630.5</td>\n",
       "      <td>0.13120</td>\n",
       "      <td>0.18900</td>\n",
       "      <td>0.07283</td>\n",
       "      <td>0.3184</td>\n",
       "    </tr>\n",
       "    <tr>\n",
       "      <th>21</th>\n",
       "      <td>9.504</td>\n",
       "      <td>12.44</td>\n",
       "      <td>60.34</td>\n",
       "      <td>273.9</td>\n",
       "      <td>0.10240</td>\n",
       "      <td>0.02956</td>\n",
       "      <td>0.020760</td>\n",
       "      <td>0.2773</td>\n",
       "      <td>0.9768</td>\n",
       "      <td>1.909</td>\n",
       "      <td>15.700</td>\n",
       "      <td>0.014210</td>\n",
       "      <td>10.230</td>\n",
       "      <td>15.66</td>\n",
       "      <td>65.13</td>\n",
       "      <td>314.9</td>\n",
       "      <td>0.13240</td>\n",
       "      <td>0.08867</td>\n",
       "      <td>0.06227</td>\n",
       "      <td>0.2450</td>\n",
       "    </tr>\n",
       "    <tr>\n",
       "      <th>37</th>\n",
       "      <td>13.030</td>\n",
       "      <td>18.42</td>\n",
       "      <td>82.61</td>\n",
       "      <td>523.8</td>\n",
       "      <td>0.08983</td>\n",
       "      <td>0.02562</td>\n",
       "      <td>0.029230</td>\n",
       "      <td>0.1839</td>\n",
       "      <td>2.3420</td>\n",
       "      <td>1.170</td>\n",
       "      <td>14.160</td>\n",
       "      <td>0.011640</td>\n",
       "      <td>13.300</td>\n",
       "      <td>22.81</td>\n",
       "      <td>84.46</td>\n",
       "      <td>545.9</td>\n",
       "      <td>0.09701</td>\n",
       "      <td>0.04833</td>\n",
       "      <td>0.05013</td>\n",
       "      <td>0.1987</td>\n",
       "    </tr>\n",
       "    <tr>\n",
       "      <th>46</th>\n",
       "      <td>8.196</td>\n",
       "      <td>16.84</td>\n",
       "      <td>51.71</td>\n",
       "      <td>201.9</td>\n",
       "      <td>0.08600</td>\n",
       "      <td>0.01588</td>\n",
       "      <td>0.005917</td>\n",
       "      <td>0.1563</td>\n",
       "      <td>0.9567</td>\n",
       "      <td>1.094</td>\n",
       "      <td>8.205</td>\n",
       "      <td>0.005917</td>\n",
       "      <td>8.964</td>\n",
       "      <td>21.96</td>\n",
       "      <td>57.26</td>\n",
       "      <td>242.2</td>\n",
       "      <td>0.12970</td>\n",
       "      <td>0.06880</td>\n",
       "      <td>0.02564</td>\n",
       "      <td>0.3105</td>\n",
       "    </tr>\n",
       "    <tr>\n",
       "      <th>...</th>\n",
       "      <td>...</td>\n",
       "      <td>...</td>\n",
       "      <td>...</td>\n",
       "      <td>...</td>\n",
       "      <td>...</td>\n",
       "      <td>...</td>\n",
       "      <td>...</td>\n",
       "      <td>...</td>\n",
       "      <td>...</td>\n",
       "      <td>...</td>\n",
       "      <td>...</td>\n",
       "      <td>...</td>\n",
       "      <td>...</td>\n",
       "      <td>...</td>\n",
       "      <td>...</td>\n",
       "      <td>...</td>\n",
       "      <td>...</td>\n",
       "      <td>...</td>\n",
       "      <td>...</td>\n",
       "      <td>...</td>\n",
       "    </tr>\n",
       "    <tr>\n",
       "      <th>343</th>\n",
       "      <td>19.680</td>\n",
       "      <td>21.68</td>\n",
       "      <td>129.90</td>\n",
       "      <td>1194.0</td>\n",
       "      <td>0.09797</td>\n",
       "      <td>0.18630</td>\n",
       "      <td>0.110300</td>\n",
       "      <td>0.6226</td>\n",
       "      <td>2.2840</td>\n",
       "      <td>5.173</td>\n",
       "      <td>67.660</td>\n",
       "      <td>0.018060</td>\n",
       "      <td>22.750</td>\n",
       "      <td>34.66</td>\n",
       "      <td>157.60</td>\n",
       "      <td>1540.0</td>\n",
       "      <td>0.12180</td>\n",
       "      <td>0.47340</td>\n",
       "      <td>0.22550</td>\n",
       "      <td>0.4045</td>\n",
       "    </tr>\n",
       "    <tr>\n",
       "      <th>141</th>\n",
       "      <td>16.110</td>\n",
       "      <td>18.05</td>\n",
       "      <td>105.10</td>\n",
       "      <td>813.0</td>\n",
       "      <td>0.09721</td>\n",
       "      <td>0.09447</td>\n",
       "      <td>0.059430</td>\n",
       "      <td>0.7049</td>\n",
       "      <td>1.3320</td>\n",
       "      <td>4.533</td>\n",
       "      <td>74.080</td>\n",
       "      <td>0.011670</td>\n",
       "      <td>19.920</td>\n",
       "      <td>25.27</td>\n",
       "      <td>129.00</td>\n",
       "      <td>1233.0</td>\n",
       "      <td>0.13140</td>\n",
       "      <td>0.28020</td>\n",
       "      <td>0.12160</td>\n",
       "      <td>0.2792</td>\n",
       "    </tr>\n",
       "    <tr>\n",
       "      <th>321</th>\n",
       "      <td>20.160</td>\n",
       "      <td>19.66</td>\n",
       "      <td>131.10</td>\n",
       "      <td>1274.0</td>\n",
       "      <td>0.08020</td>\n",
       "      <td>0.11550</td>\n",
       "      <td>0.077260</td>\n",
       "      <td>0.5925</td>\n",
       "      <td>0.6863</td>\n",
       "      <td>3.868</td>\n",
       "      <td>74.850</td>\n",
       "      <td>0.012470</td>\n",
       "      <td>23.060</td>\n",
       "      <td>23.03</td>\n",
       "      <td>150.20</td>\n",
       "      <td>1657.0</td>\n",
       "      <td>0.10540</td>\n",
       "      <td>0.26060</td>\n",
       "      <td>0.14250</td>\n",
       "      <td>0.3055</td>\n",
       "    </tr>\n",
       "    <tr>\n",
       "      <th>283</th>\n",
       "      <td>16.240</td>\n",
       "      <td>18.77</td>\n",
       "      <td>108.80</td>\n",
       "      <td>805.1</td>\n",
       "      <td>0.10660</td>\n",
       "      <td>0.19480</td>\n",
       "      <td>0.090520</td>\n",
       "      <td>0.2873</td>\n",
       "      <td>0.9173</td>\n",
       "      <td>2.464</td>\n",
       "      <td>28.090</td>\n",
       "      <td>0.012090</td>\n",
       "      <td>18.550</td>\n",
       "      <td>25.09</td>\n",
       "      <td>126.90</td>\n",
       "      <td>1031.0</td>\n",
       "      <td>0.13650</td>\n",
       "      <td>0.50260</td>\n",
       "      <td>0.17320</td>\n",
       "      <td>0.2770</td>\n",
       "    </tr>\n",
       "    <tr>\n",
       "      <th>33</th>\n",
       "      <td>19.270</td>\n",
       "      <td>26.47</td>\n",
       "      <td>127.90</td>\n",
       "      <td>1162.0</td>\n",
       "      <td>0.09401</td>\n",
       "      <td>0.16570</td>\n",
       "      <td>0.075930</td>\n",
       "      <td>0.5558</td>\n",
       "      <td>0.6062</td>\n",
       "      <td>3.528</td>\n",
       "      <td>68.170</td>\n",
       "      <td>0.009643</td>\n",
       "      <td>24.150</td>\n",
       "      <td>30.90</td>\n",
       "      <td>161.40</td>\n",
       "      <td>1813.0</td>\n",
       "      <td>0.15090</td>\n",
       "      <td>0.60910</td>\n",
       "      <td>0.17850</td>\n",
       "      <td>0.3672</td>\n",
       "    </tr>\n",
       "  </tbody>\n",
       "</table>\n",
       "<p>714 rows × 20 columns</p>\n",
       "</div>"
      ],
      "text/plain": [
       "     radius_mean  texture_mean  perimeter_mean  area_mean  smoothness_mean  \\\n",
       "19        13.540         14.36           87.46      566.3          0.09779   \n",
       "20        13.080         15.71           85.63      520.0          0.10750   \n",
       "21         9.504         12.44           60.34      273.9          0.10240   \n",
       "37        13.030         18.42           82.61      523.8          0.08983   \n",
       "46         8.196         16.84           51.71      201.9          0.08600   \n",
       "..           ...           ...             ...        ...              ...   \n",
       "343       19.680         21.68          129.90     1194.0          0.09797   \n",
       "141       16.110         18.05          105.10      813.0          0.09721   \n",
       "321       20.160         19.66          131.10     1274.0          0.08020   \n",
       "283       16.240         18.77          108.80      805.1          0.10660   \n",
       "33        19.270         26.47          127.90     1162.0          0.09401   \n",
       "\n",
       "     concavity_mean  concave points_mean  radius_se  texture_se  perimeter_se  \\\n",
       "19          0.06664             0.047810     0.2699      0.7886         2.058   \n",
       "20          0.04568             0.031100     0.1852      0.7477         1.383   \n",
       "21          0.02956             0.020760     0.2773      0.9768         1.909   \n",
       "37          0.02562             0.029230     0.1839      2.3420         1.170   \n",
       "46          0.01588             0.005917     0.1563      0.9567         1.094   \n",
       "..              ...                  ...        ...         ...           ...   \n",
       "343         0.18630             0.110300     0.6226      2.2840         5.173   \n",
       "141         0.09447             0.059430     0.7049      1.3320         4.533   \n",
       "321         0.11550             0.077260     0.5925      0.6863         3.868   \n",
       "283         0.19480             0.090520     0.2873      0.9173         2.464   \n",
       "33          0.16570             0.075930     0.5558      0.6062         3.528   \n",
       "\n",
       "     area_se  concave points_se  radius_worst  texture_worst  perimeter_worst  \\\n",
       "19    23.560           0.013150        15.110          19.26            99.70   \n",
       "20    14.670           0.006490        14.500          20.49            96.09   \n",
       "21    15.700           0.014210        10.230          15.66            65.13   \n",
       "37    14.160           0.011640        13.300          22.81            84.46   \n",
       "46     8.205           0.005917         8.964          21.96            57.26   \n",
       "..       ...                ...           ...            ...              ...   \n",
       "343   67.660           0.018060        22.750          34.66           157.60   \n",
       "141   74.080           0.011670        19.920          25.27           129.00   \n",
       "321   74.850           0.012470        23.060          23.03           150.20   \n",
       "283   28.090           0.012090        18.550          25.09           126.90   \n",
       "33    68.170           0.009643        24.150          30.90           161.40   \n",
       "\n",
       "     area_worst  smoothness_worst  concavity_worst  concave points_worst  \\\n",
       "19        711.2           0.14400          0.23900               0.12880   \n",
       "20        630.5           0.13120          0.18900               0.07283   \n",
       "21        314.9           0.13240          0.08867               0.06227   \n",
       "37        545.9           0.09701          0.04833               0.05013   \n",
       "46        242.2           0.12970          0.06880               0.02564   \n",
       "..          ...               ...              ...                   ...   \n",
       "343      1540.0           0.12180          0.47340               0.22550   \n",
       "141      1233.0           0.13140          0.28020               0.12160   \n",
       "321      1657.0           0.10540          0.26060               0.14250   \n",
       "283      1031.0           0.13650          0.50260               0.17320   \n",
       "33       1813.0           0.15090          0.60910               0.17850   \n",
       "\n",
       "     symmetry_worst  \n",
       "19           0.2977  \n",
       "20           0.3184  \n",
       "21           0.2450  \n",
       "37           0.1987  \n",
       "46           0.3105  \n",
       "..              ...  \n",
       "343          0.4045  \n",
       "141          0.2792  \n",
       "321          0.3055  \n",
       "283          0.2770  \n",
       "33           0.3672  \n",
       "\n",
       "[714 rows x 20 columns]"
      ]
     },
     "execution_count": 41,
     "metadata": {},
     "output_type": "execute_result"
    }
   ],
   "source": [
    "sub_data"
   ]
  },
  {
   "cell_type": "code",
   "execution_count": 42,
   "id": "54deed67",
   "metadata": {},
   "outputs": [
    {
     "name": "stderr",
     "output_type": "stream",
     "text": [
      "C:\\Users\\Ndidi\\anaconda3\\lib\\site-packages\\pandas\\core\\indexing.py:1597: SettingWithCopyWarning: \n",
      "A value is trying to be set on a copy of a slice from a DataFrame.\n",
      "Try using .loc[row_indexer,col_indexer] = value instead\n",
      "\n",
      "See the caveats in the documentation: https://pandas.pydata.org/pandas-docs/stable/user_guide/indexing.html#returning-a-view-versus-a-copy\n",
      "  self.obj[key] = value\n",
      "C:\\Users\\Ndidi\\anaconda3\\lib\\site-packages\\pandas\\core\\indexing.py:1676: SettingWithCopyWarning: \n",
      "A value is trying to be set on a copy of a slice from a DataFrame.\n",
      "Try using .loc[row_indexer,col_indexer] = value instead\n",
      "\n",
      "See the caveats in the documentation: https://pandas.pydata.org/pandas-docs/stable/user_guide/indexing.html#returning-a-view-versus-a-copy\n",
      "  self._setitem_single_column(ilocs[0], value, pi)\n"
     ]
    }
   ],
   "source": [
    "sub_data.loc[:, 'diagnosis'] = data_upsampled['diagnosis']"
   ]
  },
  {
   "cell_type": "code",
   "execution_count": 43,
   "id": "0a882fc0",
   "metadata": {
    "scrolled": true
   },
   "outputs": [
    {
     "data": {
      "text/html": [
       "<div>\n",
       "<style scoped>\n",
       "    .dataframe tbody tr th:only-of-type {\n",
       "        vertical-align: middle;\n",
       "    }\n",
       "\n",
       "    .dataframe tbody tr th {\n",
       "        vertical-align: top;\n",
       "    }\n",
       "\n",
       "    .dataframe thead th {\n",
       "        text-align: right;\n",
       "    }\n",
       "</style>\n",
       "<table border=\"1\" class=\"dataframe\">\n",
       "  <thead>\n",
       "    <tr style=\"text-align: right;\">\n",
       "      <th></th>\n",
       "      <th>radius_mean</th>\n",
       "      <th>texture_mean</th>\n",
       "      <th>perimeter_mean</th>\n",
       "      <th>area_mean</th>\n",
       "      <th>smoothness_mean</th>\n",
       "      <th>concavity_mean</th>\n",
       "      <th>concave points_mean</th>\n",
       "      <th>radius_se</th>\n",
       "      <th>texture_se</th>\n",
       "      <th>perimeter_se</th>\n",
       "      <th>...</th>\n",
       "      <th>concave points_se</th>\n",
       "      <th>radius_worst</th>\n",
       "      <th>texture_worst</th>\n",
       "      <th>perimeter_worst</th>\n",
       "      <th>area_worst</th>\n",
       "      <th>smoothness_worst</th>\n",
       "      <th>concavity_worst</th>\n",
       "      <th>concave points_worst</th>\n",
       "      <th>symmetry_worst</th>\n",
       "      <th>diagnosis</th>\n",
       "    </tr>\n",
       "  </thead>\n",
       "  <tbody>\n",
       "    <tr>\n",
       "      <th>19</th>\n",
       "      <td>13.540</td>\n",
       "      <td>14.36</td>\n",
       "      <td>87.46</td>\n",
       "      <td>566.3</td>\n",
       "      <td>0.09779</td>\n",
       "      <td>0.06664</td>\n",
       "      <td>0.047810</td>\n",
       "      <td>0.2699</td>\n",
       "      <td>0.7886</td>\n",
       "      <td>2.058</td>\n",
       "      <td>...</td>\n",
       "      <td>0.013150</td>\n",
       "      <td>15.110</td>\n",
       "      <td>19.26</td>\n",
       "      <td>99.70</td>\n",
       "      <td>711.2</td>\n",
       "      <td>0.14400</td>\n",
       "      <td>0.23900</td>\n",
       "      <td>0.12880</td>\n",
       "      <td>0.2977</td>\n",
       "      <td>0</td>\n",
       "    </tr>\n",
       "    <tr>\n",
       "      <th>20</th>\n",
       "      <td>13.080</td>\n",
       "      <td>15.71</td>\n",
       "      <td>85.63</td>\n",
       "      <td>520.0</td>\n",
       "      <td>0.10750</td>\n",
       "      <td>0.04568</td>\n",
       "      <td>0.031100</td>\n",
       "      <td>0.1852</td>\n",
       "      <td>0.7477</td>\n",
       "      <td>1.383</td>\n",
       "      <td>...</td>\n",
       "      <td>0.006490</td>\n",
       "      <td>14.500</td>\n",
       "      <td>20.49</td>\n",
       "      <td>96.09</td>\n",
       "      <td>630.5</td>\n",
       "      <td>0.13120</td>\n",
       "      <td>0.18900</td>\n",
       "      <td>0.07283</td>\n",
       "      <td>0.3184</td>\n",
       "      <td>0</td>\n",
       "    </tr>\n",
       "    <tr>\n",
       "      <th>21</th>\n",
       "      <td>9.504</td>\n",
       "      <td>12.44</td>\n",
       "      <td>60.34</td>\n",
       "      <td>273.9</td>\n",
       "      <td>0.10240</td>\n",
       "      <td>0.02956</td>\n",
       "      <td>0.020760</td>\n",
       "      <td>0.2773</td>\n",
       "      <td>0.9768</td>\n",
       "      <td>1.909</td>\n",
       "      <td>...</td>\n",
       "      <td>0.014210</td>\n",
       "      <td>10.230</td>\n",
       "      <td>15.66</td>\n",
       "      <td>65.13</td>\n",
       "      <td>314.9</td>\n",
       "      <td>0.13240</td>\n",
       "      <td>0.08867</td>\n",
       "      <td>0.06227</td>\n",
       "      <td>0.2450</td>\n",
       "      <td>0</td>\n",
       "    </tr>\n",
       "    <tr>\n",
       "      <th>37</th>\n",
       "      <td>13.030</td>\n",
       "      <td>18.42</td>\n",
       "      <td>82.61</td>\n",
       "      <td>523.8</td>\n",
       "      <td>0.08983</td>\n",
       "      <td>0.02562</td>\n",
       "      <td>0.029230</td>\n",
       "      <td>0.1839</td>\n",
       "      <td>2.3420</td>\n",
       "      <td>1.170</td>\n",
       "      <td>...</td>\n",
       "      <td>0.011640</td>\n",
       "      <td>13.300</td>\n",
       "      <td>22.81</td>\n",
       "      <td>84.46</td>\n",
       "      <td>545.9</td>\n",
       "      <td>0.09701</td>\n",
       "      <td>0.04833</td>\n",
       "      <td>0.05013</td>\n",
       "      <td>0.1987</td>\n",
       "      <td>0</td>\n",
       "    </tr>\n",
       "    <tr>\n",
       "      <th>46</th>\n",
       "      <td>8.196</td>\n",
       "      <td>16.84</td>\n",
       "      <td>51.71</td>\n",
       "      <td>201.9</td>\n",
       "      <td>0.08600</td>\n",
       "      <td>0.01588</td>\n",
       "      <td>0.005917</td>\n",
       "      <td>0.1563</td>\n",
       "      <td>0.9567</td>\n",
       "      <td>1.094</td>\n",
       "      <td>...</td>\n",
       "      <td>0.005917</td>\n",
       "      <td>8.964</td>\n",
       "      <td>21.96</td>\n",
       "      <td>57.26</td>\n",
       "      <td>242.2</td>\n",
       "      <td>0.12970</td>\n",
       "      <td>0.06880</td>\n",
       "      <td>0.02564</td>\n",
       "      <td>0.3105</td>\n",
       "      <td>0</td>\n",
       "    </tr>\n",
       "    <tr>\n",
       "      <th>...</th>\n",
       "      <td>...</td>\n",
       "      <td>...</td>\n",
       "      <td>...</td>\n",
       "      <td>...</td>\n",
       "      <td>...</td>\n",
       "      <td>...</td>\n",
       "      <td>...</td>\n",
       "      <td>...</td>\n",
       "      <td>...</td>\n",
       "      <td>...</td>\n",
       "      <td>...</td>\n",
       "      <td>...</td>\n",
       "      <td>...</td>\n",
       "      <td>...</td>\n",
       "      <td>...</td>\n",
       "      <td>...</td>\n",
       "      <td>...</td>\n",
       "      <td>...</td>\n",
       "      <td>...</td>\n",
       "      <td>...</td>\n",
       "      <td>...</td>\n",
       "    </tr>\n",
       "    <tr>\n",
       "      <th>343</th>\n",
       "      <td>19.680</td>\n",
       "      <td>21.68</td>\n",
       "      <td>129.90</td>\n",
       "      <td>1194.0</td>\n",
       "      <td>0.09797</td>\n",
       "      <td>0.18630</td>\n",
       "      <td>0.110300</td>\n",
       "      <td>0.6226</td>\n",
       "      <td>2.2840</td>\n",
       "      <td>5.173</td>\n",
       "      <td>...</td>\n",
       "      <td>0.018060</td>\n",
       "      <td>22.750</td>\n",
       "      <td>34.66</td>\n",
       "      <td>157.60</td>\n",
       "      <td>1540.0</td>\n",
       "      <td>0.12180</td>\n",
       "      <td>0.47340</td>\n",
       "      <td>0.22550</td>\n",
       "      <td>0.4045</td>\n",
       "      <td>1</td>\n",
       "    </tr>\n",
       "    <tr>\n",
       "      <th>141</th>\n",
       "      <td>16.110</td>\n",
       "      <td>18.05</td>\n",
       "      <td>105.10</td>\n",
       "      <td>813.0</td>\n",
       "      <td>0.09721</td>\n",
       "      <td>0.09447</td>\n",
       "      <td>0.059430</td>\n",
       "      <td>0.7049</td>\n",
       "      <td>1.3320</td>\n",
       "      <td>4.533</td>\n",
       "      <td>...</td>\n",
       "      <td>0.011670</td>\n",
       "      <td>19.920</td>\n",
       "      <td>25.27</td>\n",
       "      <td>129.00</td>\n",
       "      <td>1233.0</td>\n",
       "      <td>0.13140</td>\n",
       "      <td>0.28020</td>\n",
       "      <td>0.12160</td>\n",
       "      <td>0.2792</td>\n",
       "      <td>1</td>\n",
       "    </tr>\n",
       "    <tr>\n",
       "      <th>321</th>\n",
       "      <td>20.160</td>\n",
       "      <td>19.66</td>\n",
       "      <td>131.10</td>\n",
       "      <td>1274.0</td>\n",
       "      <td>0.08020</td>\n",
       "      <td>0.11550</td>\n",
       "      <td>0.077260</td>\n",
       "      <td>0.5925</td>\n",
       "      <td>0.6863</td>\n",
       "      <td>3.868</td>\n",
       "      <td>...</td>\n",
       "      <td>0.012470</td>\n",
       "      <td>23.060</td>\n",
       "      <td>23.03</td>\n",
       "      <td>150.20</td>\n",
       "      <td>1657.0</td>\n",
       "      <td>0.10540</td>\n",
       "      <td>0.26060</td>\n",
       "      <td>0.14250</td>\n",
       "      <td>0.3055</td>\n",
       "      <td>1</td>\n",
       "    </tr>\n",
       "    <tr>\n",
       "      <th>283</th>\n",
       "      <td>16.240</td>\n",
       "      <td>18.77</td>\n",
       "      <td>108.80</td>\n",
       "      <td>805.1</td>\n",
       "      <td>0.10660</td>\n",
       "      <td>0.19480</td>\n",
       "      <td>0.090520</td>\n",
       "      <td>0.2873</td>\n",
       "      <td>0.9173</td>\n",
       "      <td>2.464</td>\n",
       "      <td>...</td>\n",
       "      <td>0.012090</td>\n",
       "      <td>18.550</td>\n",
       "      <td>25.09</td>\n",
       "      <td>126.90</td>\n",
       "      <td>1031.0</td>\n",
       "      <td>0.13650</td>\n",
       "      <td>0.50260</td>\n",
       "      <td>0.17320</td>\n",
       "      <td>0.2770</td>\n",
       "      <td>1</td>\n",
       "    </tr>\n",
       "    <tr>\n",
       "      <th>33</th>\n",
       "      <td>19.270</td>\n",
       "      <td>26.47</td>\n",
       "      <td>127.90</td>\n",
       "      <td>1162.0</td>\n",
       "      <td>0.09401</td>\n",
       "      <td>0.16570</td>\n",
       "      <td>0.075930</td>\n",
       "      <td>0.5558</td>\n",
       "      <td>0.6062</td>\n",
       "      <td>3.528</td>\n",
       "      <td>...</td>\n",
       "      <td>0.009643</td>\n",
       "      <td>24.150</td>\n",
       "      <td>30.90</td>\n",
       "      <td>161.40</td>\n",
       "      <td>1813.0</td>\n",
       "      <td>0.15090</td>\n",
       "      <td>0.60910</td>\n",
       "      <td>0.17850</td>\n",
       "      <td>0.3672</td>\n",
       "      <td>1</td>\n",
       "    </tr>\n",
       "  </tbody>\n",
       "</table>\n",
       "<p>714 rows × 21 columns</p>\n",
       "</div>"
      ],
      "text/plain": [
       "     radius_mean  texture_mean  perimeter_mean  area_mean  smoothness_mean  \\\n",
       "19        13.540         14.36           87.46      566.3          0.09779   \n",
       "20        13.080         15.71           85.63      520.0          0.10750   \n",
       "21         9.504         12.44           60.34      273.9          0.10240   \n",
       "37        13.030         18.42           82.61      523.8          0.08983   \n",
       "46         8.196         16.84           51.71      201.9          0.08600   \n",
       "..           ...           ...             ...        ...              ...   \n",
       "343       19.680         21.68          129.90     1194.0          0.09797   \n",
       "141       16.110         18.05          105.10      813.0          0.09721   \n",
       "321       20.160         19.66          131.10     1274.0          0.08020   \n",
       "283       16.240         18.77          108.80      805.1          0.10660   \n",
       "33        19.270         26.47          127.90     1162.0          0.09401   \n",
       "\n",
       "     concavity_mean  concave points_mean  radius_se  texture_se  perimeter_se  \\\n",
       "19          0.06664             0.047810     0.2699      0.7886         2.058   \n",
       "20          0.04568             0.031100     0.1852      0.7477         1.383   \n",
       "21          0.02956             0.020760     0.2773      0.9768         1.909   \n",
       "37          0.02562             0.029230     0.1839      2.3420         1.170   \n",
       "46          0.01588             0.005917     0.1563      0.9567         1.094   \n",
       "..              ...                  ...        ...         ...           ...   \n",
       "343         0.18630             0.110300     0.6226      2.2840         5.173   \n",
       "141         0.09447             0.059430     0.7049      1.3320         4.533   \n",
       "321         0.11550             0.077260     0.5925      0.6863         3.868   \n",
       "283         0.19480             0.090520     0.2873      0.9173         2.464   \n",
       "33          0.16570             0.075930     0.5558      0.6062         3.528   \n",
       "\n",
       "     ...  concave points_se  radius_worst  texture_worst  perimeter_worst  \\\n",
       "19   ...           0.013150        15.110          19.26            99.70   \n",
       "20   ...           0.006490        14.500          20.49            96.09   \n",
       "21   ...           0.014210        10.230          15.66            65.13   \n",
       "37   ...           0.011640        13.300          22.81            84.46   \n",
       "46   ...           0.005917         8.964          21.96            57.26   \n",
       "..   ...                ...           ...            ...              ...   \n",
       "343  ...           0.018060        22.750          34.66           157.60   \n",
       "141  ...           0.011670        19.920          25.27           129.00   \n",
       "321  ...           0.012470        23.060          23.03           150.20   \n",
       "283  ...           0.012090        18.550          25.09           126.90   \n",
       "33   ...           0.009643        24.150          30.90           161.40   \n",
       "\n",
       "     area_worst  smoothness_worst  concavity_worst  concave points_worst  \\\n",
       "19        711.2           0.14400          0.23900               0.12880   \n",
       "20        630.5           0.13120          0.18900               0.07283   \n",
       "21        314.9           0.13240          0.08867               0.06227   \n",
       "37        545.9           0.09701          0.04833               0.05013   \n",
       "46        242.2           0.12970          0.06880               0.02564   \n",
       "..          ...               ...              ...                   ...   \n",
       "343      1540.0           0.12180          0.47340               0.22550   \n",
       "141      1233.0           0.13140          0.28020               0.12160   \n",
       "321      1657.0           0.10540          0.26060               0.14250   \n",
       "283      1031.0           0.13650          0.50260               0.17320   \n",
       "33       1813.0           0.15090          0.60910               0.17850   \n",
       "\n",
       "     symmetry_worst  diagnosis  \n",
       "19           0.2977          0  \n",
       "20           0.3184          0  \n",
       "21           0.2450          0  \n",
       "37           0.1987          0  \n",
       "46           0.3105          0  \n",
       "..              ...        ...  \n",
       "343          0.4045          1  \n",
       "141          0.2792          1  \n",
       "321          0.3055          1  \n",
       "283          0.2770          1  \n",
       "33           0.3672          1  \n",
       "\n",
       "[714 rows x 21 columns]"
      ]
     },
     "execution_count": 43,
     "metadata": {},
     "output_type": "execute_result"
    }
   ],
   "source": [
    "sub_data"
   ]
  },
  {
   "cell_type": "code",
   "execution_count": 44,
   "id": "c3bc5f23",
   "metadata": {},
   "outputs": [],
   "source": [
    "#split the data into training and testing sets\n",
    "X2 = sub_data.drop(columns = 'diagnosis')\n",
    "\n",
    "y2 = sub_data['diagnosis']\n",
    "\n",
    "X2_train, X2_test, y2_train, y2_test = train_test_split(X2, y2, test_size = 0.25, random_state = 0)"
   ]
  },
  {
   "cell_type": "code",
   "execution_count": 45,
   "id": "10ef39d4",
   "metadata": {},
   "outputs": [],
   "source": [
    "model3 = LogisticRegression(solver='liblinear',multi_class='ovr')\n",
    "\n",
    "model3.fit(X2_train, y2_train)\n",
    "\n",
    "predictions3 = model3.predict(X2_test)"
   ]
  },
  {
   "cell_type": "code",
   "execution_count": 46,
   "id": "8c51d371",
   "metadata": {},
   "outputs": [
    {
     "data": {
      "text/plain": [
       "Text(69.0, 0.5, 'Actual')"
      ]
     },
     "execution_count": 46,
     "metadata": {},
     "output_type": "execute_result"
    },
    {
     "data": {
      "image/png": "[encoded data removed]",
      "text/plain": [
       "<Figure size 720x504 with 2 Axes>"
      ]
     },
     "metadata": {
      "needs_background": "light"
     },
     "output_type": "display_data"
    }
   ],
   "source": [
    "cm2 = confusion_matrix(y2_test, predictions3)\n",
    "\n",
    "plt.figure(figsize=(10,7))\n",
    "sn.heatmap(cm2, annot=True)\n",
    "plt.xlabel('Predicted')\n",
    "plt.ylabel('Actual')"
   ]
  },
  {
   "cell_type": "code",
   "execution_count": 47,
   "id": "2389e797",
   "metadata": {},
   "outputs": [
    {
     "name": "stdout",
     "output_type": "stream",
     "text": [
      "Accuracy is : 0.9720670391061452\n",
      "\n",
      "Classification report is : \n",
      "               precision    recall  f1-score   support\n",
      "\n",
      "           0       0.95      1.00      0.97        93\n",
      "           1       1.00      0.94      0.97        86\n",
      "\n",
      "    accuracy                           0.97       179\n",
      "   macro avg       0.97      0.97      0.97       179\n",
      "weighted avg       0.97      0.97      0.97       179\n",
      "\n"
     ]
    }
   ],
   "source": [
    "print('Accuracy is :', accuracy_score(y2_test, predictions3))\n",
    "print('')\n",
    "print('Classification report is : \\n', classification_report(y2_test, predictions3))"
   ]
  },
  {
   "cell_type": "code",
   "execution_count": 48,
   "id": "79892bf2",
   "metadata": {},
   "outputs": [
    {
     "data": {
      "text/plain": [
       "radius_mean                 14.645897\n",
       "texture_mean                17.895234\n",
       "perimeter_mean             695.569444\n",
       "area_mean               159479.349548\n",
       "smoothness_mean              0.000209\n",
       "concavity_mean               0.007347\n",
       "concave points_mean          0.001743\n",
       "radius_se                    0.109145\n",
       "texture_se                   0.259024\n",
       "perimeter_se                 5.891398\n",
       "area_se                   3349.774872\n",
       "concave points_se            0.000038\n",
       "radius_worst                27.530790\n",
       "texture_worst               37.908863\n",
       "perimeter_worst           1331.423158\n",
       "area_worst              417490.652131\n",
       "smoothness_worst             0.000617\n",
       "concavity_worst              0.047180\n",
       "concave points_worst         0.004758\n",
       "symmetry_worst               0.005170\n",
       "dtype: float64"
      ]
     },
     "execution_count": 48,
     "metadata": {},
     "output_type": "execute_result"
    }
   ],
   "source": [
    "# Checking if variance of some features are multiple folds of the others\n",
    "X2_var = np.var(X2_train, axis = 0)\n",
    "\n",
    "X2_var"
   ]
  },
  {
   "cell_type": "code",
   "execution_count": 49,
   "id": "1ff93c77",
   "metadata": {},
   "outputs": [],
   "source": [
    "# Checking to see if we need to standardize the sub dataset\n",
    "StdS = StandardScaler() # SScaler = preprocessing.StandardScaler().fit(X_train)\n",
    "Std_X2_train = StdS.fit_transform(X2_train) # Std_X_train = SScaler.transform(X_train)\n",
    "Std_X2_test = StdS.transform(X2_test) # Std_X_test = SScaler.transform(X_test)"
   ]
  },
  {
   "cell_type": "code",
   "execution_count": 50,
   "id": "33bece87",
   "metadata": {},
   "outputs": [
    {
     "data": {
      "text/plain": [
       "array([1., 1., 1., 1., 1., 1., 1., 1., 1., 1., 1., 1., 1., 1., 1., 1., 1.,\n",
       "       1., 1., 1.])"
      ]
     },
     "execution_count": 50,
     "metadata": {},
     "output_type": "execute_result"
    }
   ],
   "source": [
    "X2std_var = np.var(Std_X2_train, axis = 0)\n",
    "\n",
    "X2std_var"
   ]
  },
  {
   "cell_type": "code",
   "execution_count": 51,
   "id": "07899f30",
   "metadata": {},
   "outputs": [],
   "source": [
    "\n",
    "model4 = LogisticRegression(solver='liblinear',multi_class='ovr')\n",
    "\n",
    "model4.fit(Std_X2_train, y2_train)\n",
    "\n",
    "\n",
    "predictions4 = model4.predict(Std_X2_test)"
   ]
  },
  {
   "cell_type": "code",
   "execution_count": 52,
   "id": "5a776a4c",
   "metadata": {},
   "outputs": [
    {
     "data": {
      "text/plain": [
       "Text(69.0, 0.5, 'Actual')"
      ]
     },
     "execution_count": 52,
     "metadata": {},
     "output_type": "execute_result"
    },
    {
     "data": {
      "image/png": "[encoded data removed]",
      "text/plain": [
       "<Figure size 720x504 with 2 Axes>"
      ]
     },
     "metadata": {
      "needs_background": "light"
     },
     "output_type": "display_data"
    }
   ],
   "source": [
    "cm3 = confusion_matrix(y2_test, predictions4)\n",
    "\n",
    "plt.figure(figsize=(10,7))\n",
    "sn.heatmap(cm3, annot=True)\n",
    "plt.xlabel('Predicted')\n",
    "plt.ylabel('Actual')"
   ]
  },
  {
   "cell_type": "code",
   "execution_count": 53,
   "id": "5bfb3f6e",
   "metadata": {},
   "outputs": [
    {
     "name": "stdout",
     "output_type": "stream",
     "text": [
      "Accuracy is : 0.9720670391061452\n",
      "\n",
      "Classification report is : \n",
      "               precision    recall  f1-score   support\n",
      "\n",
      "           0       0.95      1.00      0.97        93\n",
      "           1       1.00      0.94      0.97        86\n",
      "\n",
      "    accuracy                           0.97       179\n",
      "   macro avg       0.97      0.97      0.97       179\n",
      "weighted avg       0.97      0.97      0.97       179\n",
      "\n"
     ]
    }
   ],
   "source": [
    "print('Accuracy is :', accuracy_score(y2_test, predictions4))\n",
    "print('')\n",
    "print('Classification report is : \\n', classification_report(y2_test, predictions4))"
   ]
  },
  {
   "cell_type": "code",
   "execution_count": null,
   "id": "8c74a2f8",
   "metadata": {},
   "outputs": [],
   "source": []
  },
  {
   "cell_type": "markdown",
   "id": "b0e29d89",
   "metadata": {},
   "source": [
    "# Building a KNN classification model"
   ]
  },
  {
   "cell_type": "markdown",
   "id": "d0ef1ad5",
   "metadata": {},
   "source": [
    "The hyperparameters to tune for KNN are: the number of neighbors (n_neighbors), distance metrics (metric in [‘euclidean’, ‘manhattan’, ‘minkowski’]) for choosing the composition of the neighborhood. And then contribution of members of the neighborhood via different weightings (weights in [‘uniform’, ‘distance’])."
   ]
  },
  {
   "cell_type": "markdown",
   "id": "b6828b18",
   "metadata": {},
   "source": [
    "The code below is adapted from https://machinelearningmastery.com/hyperparameters-for-classification-machine-learning-algorithms/, and edited for grid searching the key hyperparameters for KNeighborsClassifier on this breast cancer binary classification dataset."
   ]
  },
  {
   "cell_type": "code",
   "execution_count": 54,
   "id": "98a48a27",
   "metadata": {},
   "outputs": [
    {
     "name": "stdout",
     "output_type": "stream",
     "text": [
      "0.957538 (0.021510) with: {'metric': 'euclidean', 'n_neighbors': 1, 'weights': 'uniform'}\n",
      "0.957538 (0.021510) with: {'metric': 'euclidean', 'n_neighbors': 1, 'weights': 'distance'}\n",
      "0.950548 (0.024438) with: {'metric': 'euclidean', 'n_neighbors': 2, 'weights': 'uniform'}\n",
      "0.957538 (0.021510) with: {'metric': 'euclidean', 'n_neighbors': 2, 'weights': 'distance'}\n",
      "0.951474 (0.020957) with: {'metric': 'euclidean', 'n_neighbors': 3, 'weights': 'uniform'}\n",
      "0.962663 (0.018189) with: {'metric': 'euclidean', 'n_neighbors': 3, 'weights': 'distance'}\n",
      "0.941673 (0.023582) with: {'metric': 'euclidean', 'n_neighbors': 4, 'weights': 'uniform'}\n",
      "0.956605 (0.019528) with: {'metric': 'euclidean', 'n_neighbors': 4, 'weights': 'distance'}\n",
      "0.933731 (0.024125) with: {'metric': 'euclidean', 'n_neighbors': 5, 'weights': 'uniform'}\n",
      "0.957068 (0.020050) with: {'metric': 'euclidean', 'n_neighbors': 5, 'weights': 'distance'}\n",
      "0.933731 (0.026759) with: {'metric': 'euclidean', 'n_neighbors': 6, 'weights': 'uniform'}\n",
      "0.957068 (0.021016) with: {'metric': 'euclidean', 'n_neighbors': 6, 'weights': 'distance'}\n",
      "0.934670 (0.030454) with: {'metric': 'euclidean', 'n_neighbors': 7, 'weights': 'uniform'}\n",
      "0.959872 (0.022164) with: {'metric': 'euclidean', 'n_neighbors': 7, 'weights': 'distance'}\n",
      "0.920181 (0.028450) with: {'metric': 'euclidean', 'n_neighbors': 8, 'weights': 'uniform'}\n",
      "0.958946 (0.024700) with: {'metric': 'euclidean', 'n_neighbors': 8, 'weights': 'distance'}\n",
      "0.921590 (0.030475) with: {'metric': 'euclidean', 'n_neighbors': 9, 'weights': 'uniform'}\n",
      "0.957068 (0.025445) with: {'metric': 'euclidean', 'n_neighbors': 9, 'weights': 'distance'}\n",
      "0.915082 (0.030877) with: {'metric': 'euclidean', 'n_neighbors': 10, 'weights': 'uniform'}\n",
      "0.959383 (0.022072) with: {'metric': 'euclidean', 'n_neighbors': 10, 'weights': 'distance'}\n",
      "0.918323 (0.029525) with: {'metric': 'euclidean', 'n_neighbors': 11, 'weights': 'uniform'}\n",
      "0.960779 (0.023509) with: {'metric': 'euclidean', 'n_neighbors': 11, 'weights': 'distance'}\n",
      "0.913635 (0.032362) with: {'metric': 'euclidean', 'n_neighbors': 12, 'weights': 'uniform'}\n",
      "0.961235 (0.022493) with: {'metric': 'euclidean', 'n_neighbors': 12, 'weights': 'distance'}\n",
      "0.914091 (0.032903) with: {'metric': 'euclidean', 'n_neighbors': 13, 'weights': 'uniform'}\n",
      "0.961691 (0.022880) with: {'metric': 'euclidean', 'n_neighbors': 13, 'weights': 'distance'}\n",
      "0.914600 (0.028669) with: {'metric': 'euclidean', 'n_neighbors': 14, 'weights': 'uniform'}\n",
      "0.964032 (0.021020) with: {'metric': 'euclidean', 'n_neighbors': 14, 'weights': 'distance'}\n",
      "0.915056 (0.031011) with: {'metric': 'euclidean', 'n_neighbors': 15, 'weights': 'uniform'}\n",
      "0.966373 (0.021272) with: {'metric': 'euclidean', 'n_neighbors': 15, 'weights': 'distance'}\n",
      "0.912754 (0.028704) with: {'metric': 'euclidean', 'n_neighbors': 16, 'weights': 'uniform'}\n",
      "0.967319 (0.021497) with: {'metric': 'euclidean', 'n_neighbors': 16, 'weights': 'distance'}\n",
      "0.909950 (0.029129) with: {'metric': 'euclidean', 'n_neighbors': 17, 'weights': 'uniform'}\n",
      "0.965441 (0.021015) with: {'metric': 'euclidean', 'n_neighbors': 17, 'weights': 'distance'}\n",
      "0.910400 (0.027322) with: {'metric': 'euclidean', 'n_neighbors': 18, 'weights': 'uniform'}\n",
      "0.966380 (0.020965) with: {'metric': 'euclidean', 'n_neighbors': 18, 'weights': 'distance'}\n",
      "0.909005 (0.028507) with: {'metric': 'euclidean', 'n_neighbors': 19, 'weights': 'uniform'}\n",
      "0.965910 (0.021920) with: {'metric': 'euclidean', 'n_neighbors': 19, 'weights': 'distance'}\n",
      "0.909461 (0.027613) with: {'metric': 'euclidean', 'n_neighbors': 20, 'weights': 'uniform'}\n",
      "0.965910 (0.021920) with: {'metric': 'euclidean', 'n_neighbors': 20, 'weights': 'distance'}\n",
      "0.964065 (0.019675) with: {'metric': 'manhattan', 'n_neighbors': 1, 'weights': 'uniform'}\n",
      "0.964065 (0.019675) with: {'metric': 'manhattan', 'n_neighbors': 1, 'weights': 'distance'}\n",
      "0.956612 (0.020795) with: {'metric': 'manhattan', 'n_neighbors': 2, 'weights': 'uniform'}\n",
      "0.964065 (0.019675) with: {'metric': 'manhattan', 'n_neighbors': 2, 'weights': 'distance'}\n",
      "0.959383 (0.018545) with: {'metric': 'manhattan', 'n_neighbors': 3, 'weights': 'uniform'}\n",
      "0.968708 (0.015667) with: {'metric': 'manhattan', 'n_neighbors': 3, 'weights': 'distance'}\n",
      "0.946779 (0.023194) with: {'metric': 'manhattan', 'n_neighbors': 4, 'weights': 'uniform'}\n",
      "0.966856 (0.018959) with: {'metric': 'manhattan', 'n_neighbors': 4, 'weights': 'distance'}\n",
      "0.949146 (0.022876) with: {'metric': 'manhattan', 'n_neighbors': 5, 'weights': 'uniform'}\n",
      "0.969673 (0.018781) with: {'metric': 'manhattan', 'n_neighbors': 5, 'weights': 'distance'}\n",
      "0.947757 (0.024882) with: {'metric': 'manhattan', 'n_neighbors': 6, 'weights': 'uniform'}\n",
      "0.968284 (0.020715) with: {'metric': 'manhattan', 'n_neighbors': 6, 'weights': 'distance'}\n",
      "0.948200 (0.022259) with: {'metric': 'manhattan', 'n_neighbors': 7, 'weights': 'uniform'}\n",
      "0.971081 (0.017642) with: {'metric': 'manhattan', 'n_neighbors': 7, 'weights': 'distance'}\n",
      "0.942149 (0.022652) with: {'metric': 'manhattan', 'n_neighbors': 8, 'weights': 'uniform'}\n",
      "0.971088 (0.019722) with: {'metric': 'manhattan', 'n_neighbors': 8, 'weights': 'distance'}\n",
      "0.941191 (0.020862) with: {'metric': 'manhattan', 'n_neighbors': 9, 'weights': 'uniform'}\n",
      "0.972007 (0.016518) with: {'metric': 'manhattan', 'n_neighbors': 9, 'weights': 'distance'}\n",
      "0.934214 (0.026722) with: {'metric': 'manhattan', 'n_neighbors': 10, 'weights': 'uniform'}\n",
      "0.971994 (0.017668) with: {'metric': 'manhattan', 'n_neighbors': 10, 'weights': 'distance'}\n",
      "0.930008 (0.028775) with: {'metric': 'manhattan', 'n_neighbors': 11, 'weights': 'uniform'}\n",
      "0.971518 (0.017555) with: {'metric': 'manhattan', 'n_neighbors': 11, 'weights': 'distance'}\n",
      "0.926734 (0.031145) with: {'metric': 'manhattan', 'n_neighbors': 12, 'weights': 'uniform'}\n",
      "0.969190 (0.020898) with: {'metric': 'manhattan', 'n_neighbors': 12, 'weights': 'distance'}\n",
      "0.927204 (0.030865) with: {'metric': 'manhattan', 'n_neighbors': 13, 'weights': 'uniform'}\n",
      "0.969660 (0.020147) with: {'metric': 'manhattan', 'n_neighbors': 13, 'weights': 'distance'}\n",
      "0.928176 (0.032286) with: {'metric': 'manhattan', 'n_neighbors': 14, 'weights': 'uniform'}\n",
      "0.972470 (0.019604) with: {'metric': 'manhattan', 'n_neighbors': 14, 'weights': 'distance'}\n",
      "0.927693 (0.030341) with: {'metric': 'manhattan', 'n_neighbors': 15, 'weights': 'uniform'}\n",
      "0.971994 (0.019449) with: {'metric': 'manhattan', 'n_neighbors': 15, 'weights': 'distance'}\n",
      "0.922098 (0.027272) with: {'metric': 'manhattan', 'n_neighbors': 16, 'weights': 'uniform'}\n",
      "0.973865 (0.019714) with: {'metric': 'manhattan', 'n_neighbors': 16, 'weights': 'distance'}\n",
      "0.921153 (0.027022) with: {'metric': 'manhattan', 'n_neighbors': 17, 'weights': 'uniform'}\n",
      "0.973852 (0.018721) with: {'metric': 'manhattan', 'n_neighbors': 17, 'weights': 'distance'}\n",
      "0.915539 (0.027969) with: {'metric': 'manhattan', 'n_neighbors': 18, 'weights': 'uniform'}\n",
      "0.973852 (0.020057) with: {'metric': 'manhattan', 'n_neighbors': 18, 'weights': 'distance'}\n",
      "0.915545 (0.026537) with: {'metric': 'manhattan', 'n_neighbors': 19, 'weights': 'uniform'}\n",
      "0.974315 (0.019194) with: {'metric': 'manhattan', 'n_neighbors': 19, 'weights': 'distance'}\n",
      "0.915076 (0.027845) with: {'metric': 'manhattan', 'n_neighbors': 20, 'weights': 'uniform'}\n",
      "0.973389 (0.019929) with: {'metric': 'manhattan', 'n_neighbors': 20, 'weights': 'distance'}\n",
      "0.957538 (0.021510) with: {'metric': 'minkowski', 'n_neighbors': 1, 'weights': 'uniform'}\n",
      "0.957538 (0.021510) with: {'metric': 'minkowski', 'n_neighbors': 1, 'weights': 'distance'}\n",
      "0.950548 (0.024438) with: {'metric': 'minkowski', 'n_neighbors': 2, 'weights': 'uniform'}\n",
      "0.957538 (0.021510) with: {'metric': 'minkowski', 'n_neighbors': 2, 'weights': 'distance'}\n",
      "0.951474 (0.020957) with: {'metric': 'minkowski', 'n_neighbors': 3, 'weights': 'uniform'}\n",
      "0.962663 (0.018189) with: {'metric': 'minkowski', 'n_neighbors': 3, 'weights': 'distance'}\n",
      "0.941673 (0.023582) with: {'metric': 'minkowski', 'n_neighbors': 4, 'weights': 'uniform'}\n",
      "0.956605 (0.019528) with: {'metric': 'minkowski', 'n_neighbors': 4, 'weights': 'distance'}\n",
      "0.933731 (0.024125) with: {'metric': 'minkowski', 'n_neighbors': 5, 'weights': 'uniform'}\n",
      "0.957068 (0.020050) with: {'metric': 'minkowski', 'n_neighbors': 5, 'weights': 'distance'}\n",
      "0.933731 (0.026759) with: {'metric': 'minkowski', 'n_neighbors': 6, 'weights': 'uniform'}\n",
      "0.957068 (0.021016) with: {'metric': 'minkowski', 'n_neighbors': 6, 'weights': 'distance'}\n",
      "0.934670 (0.030454) with: {'metric': 'minkowski', 'n_neighbors': 7, 'weights': 'uniform'}\n",
      "0.959872 (0.022164) with: {'metric': 'minkowski', 'n_neighbors': 7, 'weights': 'distance'}\n",
      "0.920181 (0.028450) with: {'metric': 'minkowski', 'n_neighbors': 8, 'weights': 'uniform'}\n",
      "0.958946 (0.024700) with: {'metric': 'minkowski', 'n_neighbors': 8, 'weights': 'distance'}\n",
      "0.921590 (0.030475) with: {'metric': 'minkowski', 'n_neighbors': 9, 'weights': 'uniform'}\n",
      "0.957068 (0.025445) with: {'metric': 'minkowski', 'n_neighbors': 9, 'weights': 'distance'}\n",
      "0.915082 (0.030877) with: {'metric': 'minkowski', 'n_neighbors': 10, 'weights': 'uniform'}\n",
      "0.959383 (0.022072) with: {'metric': 'minkowski', 'n_neighbors': 10, 'weights': 'distance'}\n",
      "0.918323 (0.029525) with: {'metric': 'minkowski', 'n_neighbors': 11, 'weights': 'uniform'}\n",
      "0.960779 (0.023509) with: {'metric': 'minkowski', 'n_neighbors': 11, 'weights': 'distance'}\n",
      "0.913635 (0.032362) with: {'metric': 'minkowski', 'n_neighbors': 12, 'weights': 'uniform'}\n",
      "0.961235 (0.022493) with: {'metric': 'minkowski', 'n_neighbors': 12, 'weights': 'distance'}\n",
      "0.914091 (0.032903) with: {'metric': 'minkowski', 'n_neighbors': 13, 'weights': 'uniform'}\n",
      "0.961691 (0.022880) with: {'metric': 'minkowski', 'n_neighbors': 13, 'weights': 'distance'}\n",
      "0.914600 (0.028669) with: {'metric': 'minkowski', 'n_neighbors': 14, 'weights': 'uniform'}\n",
      "0.964032 (0.021020) with: {'metric': 'minkowski', 'n_neighbors': 14, 'weights': 'distance'}\n",
      "0.915056 (0.031011) with: {'metric': 'minkowski', 'n_neighbors': 15, 'weights': 'uniform'}\n",
      "0.966373 (0.021272) with: {'metric': 'minkowski', 'n_neighbors': 15, 'weights': 'distance'}\n",
      "0.912754 (0.028704) with: {'metric': 'minkowski', 'n_neighbors': 16, 'weights': 'uniform'}\n",
      "0.967319 (0.021497) with: {'metric': 'minkowski', 'n_neighbors': 16, 'weights': 'distance'}\n",
      "0.909950 (0.029129) with: {'metric': 'minkowski', 'n_neighbors': 17, 'weights': 'uniform'}\n",
      "0.965441 (0.021015) with: {'metric': 'minkowski', 'n_neighbors': 17, 'weights': 'distance'}\n",
      "0.910400 (0.027322) with: {'metric': 'minkowski', 'n_neighbors': 18, 'weights': 'uniform'}\n",
      "0.966380 (0.020965) with: {'metric': 'minkowski', 'n_neighbors': 18, 'weights': 'distance'}\n",
      "0.909005 (0.028507) with: {'metric': 'minkowski', 'n_neighbors': 19, 'weights': 'uniform'}\n",
      "0.965910 (0.021920) with: {'metric': 'minkowski', 'n_neighbors': 19, 'weights': 'distance'}\n",
      "0.909461 (0.027613) with: {'metric': 'minkowski', 'n_neighbors': 20, 'weights': 'uniform'}\n",
      "0.965910 (0.021920) with: {'metric': 'minkowski', 'n_neighbors': 20, 'weights': 'distance'}\n",
      "Best: 0.974315 using {'metric': 'manhattan', 'n_neighbors': 19, 'weights': 'distance'}\n"
     ]
    }
   ],
   "source": [
    "# define models and parameters\n",
    "model = KNeighborsClassifier()\n",
    "n_neighbors = range(1, 21)\n",
    "weights = ['uniform', 'distance']\n",
    "metric = ['euclidean', 'manhattan', 'minkowski']\n",
    "# define grid search\n",
    "grid = dict(n_neighbors=n_neighbors,weights=weights,metric=metric)\n",
    "cv = RepeatedStratifiedKFold(n_splits=10, n_repeats=3, random_state=1)\n",
    "grid_search = GridSearchCV(estimator=model, param_grid=grid, n_jobs=-1, cv=cv, scoring='accuracy',error_score=0)\n",
    "grid_result = grid_search.fit(X, y)\n",
    "\n",
    "# summarize results\n",
    "means = grid_result.cv_results_['mean_test_score']\n",
    "stds = grid_result.cv_results_['std_test_score']\n",
    "params = grid_result.cv_results_['params']\n",
    "for mean, stdev, param in zip(means, stds, params):\n",
    "    print(\"%f (%f) with: %r\" % (mean, stdev, param))\n",
    "    \n",
    "# summarize results\n",
    "print(\"Best: %f using %s\" % (grid_result.best_score_, grid_result.best_params_))"
   ]
  },
  {
   "cell_type": "code",
   "execution_count": 55,
   "id": "a4fa63b7",
   "metadata": {},
   "outputs": [
    {
     "data": {
      "text/plain": [
       "array([0, 0, 0, 0, 1, 1, 1, 0, 1, 0, 0, 0, 1, 1, 1, 0, 0, 1, 0, 1, 0, 0,\n",
       "       0, 1, 1, 1, 0, 1, 1, 0, 0, 1, 1, 1, 1, 0, 0, 1, 1, 1, 0, 0, 1, 0,\n",
       "       1, 1, 0, 1, 1, 0, 1, 0, 1, 0, 1, 1, 1, 0, 1, 0, 0, 1, 0, 0, 1, 1,\n",
       "       1, 1, 0, 0, 0, 0, 0, 1, 0, 0, 1, 0, 0, 1, 1, 1, 0, 1, 0, 0, 1, 1,\n",
       "       0, 1, 0, 0, 1, 1, 1, 1, 0, 1, 1, 1, 0, 0, 1, 0, 0, 0, 0, 1, 1, 0,\n",
       "       0, 1, 0, 1, 0, 1, 0, 1, 0, 0, 1, 1, 0, 0, 0, 1, 1, 1, 1, 0, 0, 0,\n",
       "       0, 1, 1, 0, 0, 1, 0, 0, 0, 1, 1, 0, 1, 0, 0, 0, 1, 0, 1, 1, 0, 1,\n",
       "       0, 0, 1, 0, 1, 0, 0, 0, 1, 1, 0, 0, 1, 0, 0, 1, 0, 0, 1, 0, 0, 0,\n",
       "       1, 0, 0], dtype=int64)"
      ]
     },
     "execution_count": 55,
     "metadata": {},
     "output_type": "execute_result"
    }
   ],
   "source": [
    "# This optimal combination is then used on the 75:25 % train:test data split\n",
    "\n",
    "knn=KNeighborsClassifier(n_neighbors=19, metric = 'manhattan', weights = 'distance')\n",
    "knn.fit(X_train,y_train)\n",
    "predictionsa=knn.predict(X_test)\n",
    "predictionsa"
   ]
  },
  {
   "cell_type": "code",
   "execution_count": 56,
   "id": "8e57f976",
   "metadata": {},
   "outputs": [
    {
     "data": {
      "text/plain": [
       "Text(69.0, 0.5, 'Actual')"
      ]
     },
     "execution_count": 56,
     "metadata": {},
     "output_type": "execute_result"
    },
    {
     "data": {
      "image/png": "[encoded data removed]",
      "text/plain": [
       "<Figure size 720x504 with 2 Axes>"
      ]
     },
     "metadata": {
      "needs_background": "light"
     },
     "output_type": "display_data"
    }
   ],
   "source": [
    "cma = confusion_matrix(y_test, predictionsa)\n",
    "\n",
    "plt.figure(figsize=(10,7))\n",
    "sn.heatmap(cma, annot=True)\n",
    "plt.xlabel('Predicted')\n",
    "plt.ylabel('Actual')"
   ]
  },
  {
   "cell_type": "code",
   "execution_count": 57,
   "id": "f2db6bf4",
   "metadata": {},
   "outputs": [
    {
     "name": "stdout",
     "output_type": "stream",
     "text": [
      "Accuracy is : 0.9664804469273743\n",
      "\n",
      "Classification report is : \n",
      "               precision    recall  f1-score   support\n",
      "\n",
      "           0       0.96      0.98      0.97        93\n",
      "           1       0.98      0.95      0.96        86\n",
      "\n",
      "    accuracy                           0.97       179\n",
      "   macro avg       0.97      0.97      0.97       179\n",
      "weighted avg       0.97      0.97      0.97       179\n",
      "\n"
     ]
    }
   ],
   "source": [
    "print('Accuracy is :', accuracy_score(y_test, predictionsa))\n",
    "print('')\n",
    "print('Classification report is : \\n', classification_report(y_test, predictionsa))"
   ]
  },
  {
   "cell_type": "markdown",
   "id": "e5772e62",
   "metadata": {},
   "source": [
    "# Using the weights hyperparameter with the scaled dataset gives a very poor performance.\n",
    "# To use the scaled data, I will try the Mean squared error (MSE) approach"
   ]
  },
  {
   "cell_type": "code",
   "execution_count": 58,
   "id": "7cbf4c30",
   "metadata": {},
   "outputs": [],
   "source": [
    "MSEs = []\n",
    "for k in range(1, 21):\n",
    "    knn2 = KNeighborsClassifier(n_neighbors=k)\n",
    "    knn2.fit(Std_X_train,y_train)\n",
    "    predictions_k = knn2.predict(Std_X_test)\n",
    "    MSEs.append(np.mean(predictions_k != y_test))"
   ]
  },
  {
   "cell_type": "code",
   "execution_count": 59,
   "id": "93f656b1",
   "metadata": {},
   "outputs": [
    {
     "data": {
      "image/png": "[encoded data removed]",
      "text/plain": [
       "<Figure size 648x432 with 1 Axes>"
      ]
     },
     "metadata": {
      "needs_background": "light"
     },
     "output_type": "display_data"
    }
   ],
   "source": [
    "# Plot the K vs MSE values\n",
    "fig, sub = plt.subplots(1, 1)\n",
    "fig.set_size_inches(9, 6)\n",
    "plt.plot(range(1,21), MSEs)\n",
    "plt.xlabel('K neighbors')\n",
    "plt.ylabel('Mean square error')\n",
    "plt.xticks(range(1,21))\n",
    "plt.show()"
   ]
  },
  {
   "cell_type": "code",
   "execution_count": 60,
   "id": "e0da30d2",
   "metadata": {},
   "outputs": [],
   "source": [
    "from sklearn.metrics import mean_squared_error"
   ]
  },
  {
   "cell_type": "code",
   "execution_count": 61,
   "id": "2c914a01",
   "metadata": {},
   "outputs": [],
   "source": [
    "# With the built in MSE estimator from sklearn library\n",
    "MSE2 = []\n",
    "for k in range(1, 21):\n",
    "    knn3 = KNeighborsClassifier(n_neighbors=k)\n",
    "    knn3.fit(Std_X_train,y_train)\n",
    "    predictions2_k = knn3.predict(Std_X_test)\n",
    "    MSE2.append(mean_squared_error(y_test, predictions2_k))"
   ]
  },
  {
   "cell_type": "code",
   "execution_count": 62,
   "id": "63916c8d",
   "metadata": {},
   "outputs": [
    {
     "data": {
      "image/png": "[encoded data removed]",
      "text/plain": [
       "<Figure size 648x432 with 1 Axes>"
      ]
     },
     "metadata": {
      "needs_background": "light"
     },
     "output_type": "display_data"
    }
   ],
   "source": [
    "# Plot the feature importance\n",
    "fig, sub = plt.subplots(1, 1)\n",
    "fig.set_size_inches(9, 6)\n",
    "plt.plot(range(1,21), MSE2, color='red',linestyle='--',\n",
    "        marker='*', markersize=6, markerfacecolor='b')\n",
    "plt.xlabel('K neighbors')\n",
    "plt.ylabel('Mean square error')\n",
    "plt.xticks(range(1,21))\n",
    "plt.show()"
   ]
  },
  {
   "cell_type": "markdown",
   "id": "6c9ebf2d",
   "metadata": {},
   "source": [
    "From both curves,K values of 3, 6 and 12 give the lowest mean errors. While 2, 16, 17 , 18 give the highest mean errors."
   ]
  },
  {
   "cell_type": "code",
   "execution_count": 63,
   "id": "a11aa7a8",
   "metadata": {},
   "outputs": [],
   "source": [
    "# Trying a different approach (MSE) with the sacled dataset\n",
    "k = [3, 6, 12, 18] # The last value is to test of the highest MSE K values\n",
    "Accuracy = []\n",
    "Confusion_matrix = []\n",
    "for i in k:\n",
    "    knn4 = KNeighborsClassifier(n_neighbors=i)\n",
    "    knn4.fit(Std_X_train,y_train)\n",
    "    predictions4 = knn4.predict(Std_X_test)\n",
    "    Accuracy.append(accuracy_score(y_test, predictions4))\n",
    "    Confusion_matrix.append(confusion_matrix(y_test, predictions4).ravel())"
   ]
  },
  {
   "cell_type": "code",
   "execution_count": 64,
   "id": "1cb32af9",
   "metadata": {},
   "outputs": [
    {
     "name": "stdout",
     "output_type": "stream",
     "text": [
      "[[3, 6, 12, 18], [0.9776536312849162, 0.9776536312849162, 0.9776536312849162, 0.9553072625698324]]\n",
      "\n",
      "tn, fp, fn, tp = [array([90,  3,  1, 85], dtype=int64), array([92,  1,  3, 83], dtype=int64), array([92,  1,  3, 83], dtype=int64), array([91,  2,  6, 80], dtype=int64)]\n"
     ]
    }
   ],
   "source": [
    "print([k, Accuracy])\n",
    "print()\n",
    "print('tn, fp, fn, tp =', Confusion_matrix)"
   ]
  },
  {
   "cell_type": "code",
   "execution_count": 65,
   "id": "adec175a",
   "metadata": {},
   "outputs": [],
   "source": [
    "# Adding the Manhattan distance metric\n",
    "MSE3 = []\n",
    "for k in range(1, 21):\n",
    "    knn4 = KNeighborsClassifier(n_neighbors=k, metric = 'manhattan')\n",
    "    knn4.fit(Std_X_train,y_train)\n",
    "    predictions3_k = knn4.predict(Std_X_test)\n",
    "    MSE3.append(mean_squared_error(y_test, predictions3_k))"
   ]
  },
  {
   "cell_type": "code",
   "execution_count": 66,
   "id": "9e410c81",
   "metadata": {},
   "outputs": [
    {
     "data": {
      "image/png": "[encoded data removed]",
      "text/plain": [
       "<Figure size 648x432 with 1 Axes>"
      ]
     },
     "metadata": {
      "needs_background": "light"
     },
     "output_type": "display_data"
    }
   ],
   "source": [
    "# Plot the feature importance\n",
    "fig, sub = plt.subplots(1, 1)\n",
    "fig.set_size_inches(9, 6)\n",
    "plt.plot(range(1,21), MSE3, color='purple',linestyle='--',\n",
    "        marker='o', markersize=6, markerfacecolor='b')\n",
    "plt.xlabel('K neighbors')\n",
    "plt.ylabel('Mean square error')\n",
    "plt.xticks(range(1,21))\n",
    "plt.show()"
   ]
  },
  {
   "cell_type": "code",
   "execution_count": null,
   "id": "ca2d08ad",
   "metadata": {},
   "outputs": [],
   "source": []
  }
 ],
 "metadata": {
  "kernelspec": {
   "display_name": "Python 3",
   "language": "python",
   "name": "python3"
  },
  "language_info": {
   "codemirror_mode": {
    "name": "ipython",
    "version": 3
   },
   "file_extension": ".py",
   "mimetype": "text/x-python",
   "name": "python",
   "nbconvert_exporter": "python",
   "pygments_lexer": "ipython3",
   "version": "3.8.8"
  }
 },
 "nbformat": 4,
 "nbformat_minor": 5
}
